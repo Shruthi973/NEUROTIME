{
 "cells": [
  {
   "cell_type": "code",
   "execution_count": 7,
   "metadata": {},
   "outputs": [],
   "source": [
    "import os.path as op\n",
    "import pathlib\n",
    "import shutil\n",
    "import os\n",
    "import glob\n",
    "import pathlib\n",
    "\n",
    "\n",
    "import mne\n",
    "from mne_nirs import datasets  # For convenient downloading of example data\n",
    "\n",
    "from mne_bids import BIDSPath, print_dir_tree, write_raw_bids\n",
    "from mne_bids.stats import count_events"
   ]
  },
  {
   "cell_type": "markdown",
   "metadata": {},
   "source": [
    "Define main data directory and output BIDS directory"
   ]
  },
  {
   "cell_type": "code",
   "execution_count": 12,
   "metadata": {},
   "outputs": [],
   "source": [
    "data_dir = pathlib.Path('/Volumes/dep/Allied Health Professions/NIB Team/Project Folders/DT and PD/fnirs/by_task/dt_simple')\n",
    "\n",
    "bids_root = data_dir.with_name(data_dir.name + \"-bids\")"
   ]
  },
  {
   "cell_type": "markdown",
   "metadata": {},
   "source": [
    "Ensure the bids directory is clean before starting"
   ]
  },
  {
   "cell_type": "code",
   "execution_count": 13,
   "metadata": {},
   "outputs": [],
   "source": [
    "if os.path.exists(bids_root):\n",
    "    shutil.rmtree(bids_root)   "
   ]
  },
  {
   "cell_type": "markdown",
   "metadata": {},
   "source": [
    "Define the trigger information and other constants"
   ]
  },
  {
   "cell_type": "code",
   "execution_count": 14,
   "metadata": {},
   "outputs": [],
   "source": [
    "trigger_info = {\n",
    "    \"1\": \"ST Walk\", \n",
    "    \"2\": \"Instructions\", \n",
    "    \"3\": \"Immediate Recall\", \n",
    "    \"4\": \"OT\", \n",
    "    \"5\": \"DDK\", \n",
    "    \"6\": \"Auto\", \n",
    "    \"7\": \"Spontaneous\"\n",
    "}\n",
    "task = \"SimpleDT\""
   ]
  },
  {
   "cell_type": "markdown",
   "metadata": {},
   "source": [
    "List all subjects in the data directory (assuming subject directories are structured as \"pdXXX\")"
   ]
  },
  {
   "cell_type": "code",
   "execution_count": 15,
   "metadata": {},
   "outputs": [],
   "source": [
    "subjects = [d for d in data_dir.iterdir() if d.is_dir() and d.name.startswith('pd')]"
   ]
  },
  {
   "cell_type": "markdown",
   "metadata": {},
   "source": [
    "Loop through each subject and process their data"
   ]
  },
  {
   "cell_type": "code",
   "execution_count": 16,
   "metadata": {},
   "outputs": [
    {
     "name": "stdout",
     "output_type": "stream",
     "text": [
      "Processing subject: pd005\n",
      "Loading /Volumes/dep/Allied Health Professions/NIB Team/Project Folders/DT and PD/fnirs/by_task/dt_simple/pd005/2022-08-16_005_r1.snirf\n",
      "Loading /Volumes/dep/Allied Health Professions/NIB Team/Project Folders/DT and PD/fnirs/by_task/dt_simple/pd005/2022-08-16_005_r1.snirf\n",
      "Writing '/Volumes/dep/Allied Health Professions/NIB Team/Project Folders/DT and PD/fnirs/by_task/dt_simple-bids/README'...\n",
      "Writing '/Volumes/dep/Allied Health Professions/NIB Team/Project Folders/DT and PD/fnirs/by_task/dt_simple-bids/participants.tsv'...\n",
      "Writing '/Volumes/dep/Allied Health Professions/NIB Team/Project Folders/DT and PD/fnirs/by_task/dt_simple-bids/participants.json'...\n",
      "The provided raw data contains annotations, but you did not pass an \"event_id\" mapping from annotation descriptions to event codes. We will generate arbitrary event codes. To specify custom event codes, please pass \"event_id\".\n",
      "Used Annotations descriptions: ['8', 'Auto', 'DDK', 'Immediate Recall', 'Instructions', 'OT', 'ST Walk', 'Spontaneous']\n",
      "Writing '/Volumes/dep/Allied Health Professions/NIB Team/Project Folders/DT and PD/fnirs/by_task/dt_simple-bids/sub-pd005/nirs/sub-pd005_task-SimpleDT_events.tsv'...\n",
      "Writing '/Volumes/dep/Allied Health Professions/NIB Team/Project Folders/DT and PD/fnirs/by_task/dt_simple-bids/sub-pd005/nirs/sub-pd005_task-SimpleDT_events.json'...\n",
      "Writing '/Volumes/dep/Allied Health Professions/NIB Team/Project Folders/DT and PD/fnirs/by_task/dt_simple-bids/dataset_description.json'...\n",
      "Writing '/Volumes/dep/Allied Health Professions/NIB Team/Project Folders/DT and PD/fnirs/by_task/dt_simple-bids/sub-pd005/nirs/sub-pd005_task-SimpleDT_nirs.json'...\n",
      "Writing '/Volumes/dep/Allied Health Professions/NIB Team/Project Folders/DT and PD/fnirs/by_task/dt_simple-bids/sub-pd005/nirs/sub-pd005_task-SimpleDT_channels.tsv'...\n",
      "Copying data files to sub-pd005_task-SimpleDT_nirs.snirf\n"
     ]
    },
    {
     "name": "stderr",
     "output_type": "stream",
     "text": [
      "/var/folders/jj/m5hzfl052j3_qxn15v5jc69w0000gp/T/ipykernel_56251/2663933189.py:28: RuntimeWarning: Coordinate frame could not be inferred from the raw object and the BIDSPath.space was none, skipping the writing of channel positions\n",
      "  write_raw_bids(raw, bids_path, overwrite=True)\n"
     ]
    },
    {
     "name": "stdout",
     "output_type": "stream",
     "text": [
      "Writing '/Volumes/dep/Allied Health Professions/NIB Team/Project Folders/DT and PD/fnirs/by_task/dt_simple-bids/sub-pd005/sub-pd005_scans.tsv'...\n",
      "Wrote /Volumes/dep/Allied Health Professions/NIB Team/Project Folders/DT and PD/fnirs/by_task/dt_simple-bids/sub-pd005/sub-pd005_scans.tsv entry with nirs/sub-pd005_task-SimpleDT_nirs.snirf.\n",
      "Finished processing pd005\n",
      "Processing subject: pd006\n",
      "Loading /Volumes/dep/Allied Health Professions/NIB Team/Project Folders/DT and PD/fnirs/by_task/dt_simple/pd006/2022-08-04_005_r1.snirf\n",
      "Loading /Volumes/dep/Allied Health Professions/NIB Team/Project Folders/DT and PD/fnirs/by_task/dt_simple/pd006/2022-08-04_005_r1.snirf\n",
      "Writing '/Volumes/dep/Allied Health Professions/NIB Team/Project Folders/DT and PD/fnirs/by_task/dt_simple-bids/participants.tsv'...\n",
      "Writing '/Volumes/dep/Allied Health Professions/NIB Team/Project Folders/DT and PD/fnirs/by_task/dt_simple-bids/participants.json'...\n",
      "The provided raw data contains annotations, but you did not pass an \"event_id\" mapping from annotation descriptions to event codes. We will generate arbitrary event codes. To specify custom event codes, please pass \"event_id\".\n",
      "Used Annotations descriptions: ['8', 'Auto', 'DDK', 'Immediate Recall', 'Instructions', 'OT', 'ST Walk', 'Spontaneous']\n",
      "Writing '/Volumes/dep/Allied Health Professions/NIB Team/Project Folders/DT and PD/fnirs/by_task/dt_simple-bids/sub-pd006/nirs/sub-pd006_task-SimpleDT_events.tsv'...\n",
      "Writing '/Volumes/dep/Allied Health Professions/NIB Team/Project Folders/DT and PD/fnirs/by_task/dt_simple-bids/sub-pd006/nirs/sub-pd006_task-SimpleDT_events.json'...\n",
      "Writing '/Volumes/dep/Allied Health Professions/NIB Team/Project Folders/DT and PD/fnirs/by_task/dt_simple-bids/dataset_description.json'...\n",
      "Writing '/Volumes/dep/Allied Health Professions/NIB Team/Project Folders/DT and PD/fnirs/by_task/dt_simple-bids/sub-pd006/nirs/sub-pd006_task-SimpleDT_nirs.json'...\n",
      "Writing '/Volumes/dep/Allied Health Professions/NIB Team/Project Folders/DT and PD/fnirs/by_task/dt_simple-bids/sub-pd006/nirs/sub-pd006_task-SimpleDT_channels.tsv'...\n",
      "Copying data files to sub-pd006_task-SimpleDT_nirs.snirf\n",
      "Writing '/Volumes/dep/Allied Health Professions/NIB Team/Project Folders/DT and PD/fnirs/by_task/dt_simple-bids/sub-pd006/sub-pd006_scans.tsv'...\n",
      "Wrote /Volumes/dep/Allied Health Professions/NIB Team/Project Folders/DT and PD/fnirs/by_task/dt_simple-bids/sub-pd006/sub-pd006_scans.tsv entry with nirs/sub-pd006_task-SimpleDT_nirs.snirf.\n",
      "Finished processing pd006\n",
      "Processing subject: pd007\n",
      "Loading /Volumes/dep/Allied Health Professions/NIB Team/Project Folders/DT and PD/fnirs/by_task/dt_simple/pd007/2022-07-20_005_r1.snirf\n"
     ]
    },
    {
     "name": "stderr",
     "output_type": "stream",
     "text": [
      "/var/folders/jj/m5hzfl052j3_qxn15v5jc69w0000gp/T/ipykernel_56251/2663933189.py:28: RuntimeWarning: Coordinate frame could not be inferred from the raw object and the BIDSPath.space was none, skipping the writing of channel positions\n",
      "  write_raw_bids(raw, bids_path, overwrite=True)\n"
     ]
    },
    {
     "name": "stdout",
     "output_type": "stream",
     "text": [
      "Loading /Volumes/dep/Allied Health Professions/NIB Team/Project Folders/DT and PD/fnirs/by_task/dt_simple/pd007/2022-07-20_005_r1.snirf\n",
      "Writing '/Volumes/dep/Allied Health Professions/NIB Team/Project Folders/DT and PD/fnirs/by_task/dt_simple-bids/participants.tsv'...\n",
      "Writing '/Volumes/dep/Allied Health Professions/NIB Team/Project Folders/DT and PD/fnirs/by_task/dt_simple-bids/participants.json'...\n",
      "The provided raw data contains annotations, but you did not pass an \"event_id\" mapping from annotation descriptions to event codes. We will generate arbitrary event codes. To specify custom event codes, please pass \"event_id\".\n",
      "Used Annotations descriptions: ['8', 'Auto', 'DDK', 'Immediate Recall', 'Instructions', 'OT', 'ST Walk', 'Spontaneous']\n",
      "Writing '/Volumes/dep/Allied Health Professions/NIB Team/Project Folders/DT and PD/fnirs/by_task/dt_simple-bids/sub-pd007/nirs/sub-pd007_task-SimpleDT_events.tsv'...\n",
      "Writing '/Volumes/dep/Allied Health Professions/NIB Team/Project Folders/DT and PD/fnirs/by_task/dt_simple-bids/sub-pd007/nirs/sub-pd007_task-SimpleDT_events.json'...\n",
      "Writing '/Volumes/dep/Allied Health Professions/NIB Team/Project Folders/DT and PD/fnirs/by_task/dt_simple-bids/dataset_description.json'...\n",
      "Writing '/Volumes/dep/Allied Health Professions/NIB Team/Project Folders/DT and PD/fnirs/by_task/dt_simple-bids/sub-pd007/nirs/sub-pd007_task-SimpleDT_nirs.json'...\n",
      "Writing '/Volumes/dep/Allied Health Professions/NIB Team/Project Folders/DT and PD/fnirs/by_task/dt_simple-bids/sub-pd007/nirs/sub-pd007_task-SimpleDT_channels.tsv'...\n",
      "Copying data files to sub-pd007_task-SimpleDT_nirs.snirf\n",
      "Writing '/Volumes/dep/Allied Health Professions/NIB Team/Project Folders/DT and PD/fnirs/by_task/dt_simple-bids/sub-pd007/sub-pd007_scans.tsv'...\n",
      "Wrote /Volumes/dep/Allied Health Professions/NIB Team/Project Folders/DT and PD/fnirs/by_task/dt_simple-bids/sub-pd007/sub-pd007_scans.tsv entry with nirs/sub-pd007_task-SimpleDT_nirs.snirf.\n"
     ]
    },
    {
     "name": "stderr",
     "output_type": "stream",
     "text": [
      "/var/folders/jj/m5hzfl052j3_qxn15v5jc69w0000gp/T/ipykernel_56251/2663933189.py:28: RuntimeWarning: Coordinate frame could not be inferred from the raw object and the BIDSPath.space was none, skipping the writing of channel positions\n",
      "  write_raw_bids(raw, bids_path, overwrite=True)\n"
     ]
    },
    {
     "name": "stdout",
     "output_type": "stream",
     "text": [
      "Finished processing pd007\n",
      "Processing subject: pd009\n",
      "Loading /Volumes/dep/Allied Health Professions/NIB Team/Project Folders/DT and PD/fnirs/by_task/dt_simple/pd009/2022-08-12_005_r1.snirf\n",
      "Loading /Volumes/dep/Allied Health Professions/NIB Team/Project Folders/DT and PD/fnirs/by_task/dt_simple/pd009/2022-08-12_005_r1.snirf\n",
      "Writing '/Volumes/dep/Allied Health Professions/NIB Team/Project Folders/DT and PD/fnirs/by_task/dt_simple-bids/participants.tsv'...\n",
      "Writing '/Volumes/dep/Allied Health Professions/NIB Team/Project Folders/DT and PD/fnirs/by_task/dt_simple-bids/participants.json'...\n",
      "The provided raw data contains annotations, but you did not pass an \"event_id\" mapping from annotation descriptions to event codes. We will generate arbitrary event codes. To specify custom event codes, please pass \"event_id\".\n",
      "Used Annotations descriptions: ['Auto', 'DDK', 'Immediate Recall', 'Instructions', 'OT', 'ST Walk', 'Spontaneous']\n",
      "Writing '/Volumes/dep/Allied Health Professions/NIB Team/Project Folders/DT and PD/fnirs/by_task/dt_simple-bids/sub-pd009/nirs/sub-pd009_task-SimpleDT_events.tsv'...\n",
      "Writing '/Volumes/dep/Allied Health Professions/NIB Team/Project Folders/DT and PD/fnirs/by_task/dt_simple-bids/sub-pd009/nirs/sub-pd009_task-SimpleDT_events.json'...\n",
      "Writing '/Volumes/dep/Allied Health Professions/NIB Team/Project Folders/DT and PD/fnirs/by_task/dt_simple-bids/dataset_description.json'...\n",
      "Writing '/Volumes/dep/Allied Health Professions/NIB Team/Project Folders/DT and PD/fnirs/by_task/dt_simple-bids/sub-pd009/nirs/sub-pd009_task-SimpleDT_nirs.json'...\n",
      "Writing '/Volumes/dep/Allied Health Professions/NIB Team/Project Folders/DT and PD/fnirs/by_task/dt_simple-bids/sub-pd009/nirs/sub-pd009_task-SimpleDT_channels.tsv'...\n",
      "Copying data files to sub-pd009_task-SimpleDT_nirs.snirf\n",
      "Writing '/Volumes/dep/Allied Health Professions/NIB Team/Project Folders/DT and PD/fnirs/by_task/dt_simple-bids/sub-pd009/sub-pd009_scans.tsv'...\n",
      "Wrote /Volumes/dep/Allied Health Professions/NIB Team/Project Folders/DT and PD/fnirs/by_task/dt_simple-bids/sub-pd009/sub-pd009_scans.tsv entry with nirs/sub-pd009_task-SimpleDT_nirs.snirf.\n",
      "Finished processing pd009\n",
      "Processing subject: pd011\n",
      "Loading /Volumes/dep/Allied Health Professions/NIB Team/Project Folders/DT and PD/fnirs/by_task/dt_simple/pd011/2022-08-03_005_r1.snirf\n"
     ]
    },
    {
     "name": "stderr",
     "output_type": "stream",
     "text": [
      "/var/folders/jj/m5hzfl052j3_qxn15v5jc69w0000gp/T/ipykernel_56251/2663933189.py:28: RuntimeWarning: Coordinate frame could not be inferred from the raw object and the BIDSPath.space was none, skipping the writing of channel positions\n",
      "  write_raw_bids(raw, bids_path, overwrite=True)\n"
     ]
    },
    {
     "name": "stdout",
     "output_type": "stream",
     "text": [
      "Loading /Volumes/dep/Allied Health Professions/NIB Team/Project Folders/DT and PD/fnirs/by_task/dt_simple/pd011/2022-08-03_005_r1.snirf\n",
      "Writing '/Volumes/dep/Allied Health Professions/NIB Team/Project Folders/DT and PD/fnirs/by_task/dt_simple-bids/participants.tsv'...\n",
      "Writing '/Volumes/dep/Allied Health Professions/NIB Team/Project Folders/DT and PD/fnirs/by_task/dt_simple-bids/participants.json'...\n",
      "The provided raw data contains annotations, but you did not pass an \"event_id\" mapping from annotation descriptions to event codes. We will generate arbitrary event codes. To specify custom event codes, please pass \"event_id\".\n",
      "Used Annotations descriptions: ['8', 'Auto', 'DDK', 'Immediate Recall', 'Instructions', 'OT', 'ST Walk', 'Spontaneous']\n",
      "Writing '/Volumes/dep/Allied Health Professions/NIB Team/Project Folders/DT and PD/fnirs/by_task/dt_simple-bids/sub-pd011/nirs/sub-pd011_task-SimpleDT_events.tsv'...\n",
      "Writing '/Volumes/dep/Allied Health Professions/NIB Team/Project Folders/DT and PD/fnirs/by_task/dt_simple-bids/sub-pd011/nirs/sub-pd011_task-SimpleDT_events.json'...\n",
      "Writing '/Volumes/dep/Allied Health Professions/NIB Team/Project Folders/DT and PD/fnirs/by_task/dt_simple-bids/dataset_description.json'...\n",
      "Writing '/Volumes/dep/Allied Health Professions/NIB Team/Project Folders/DT and PD/fnirs/by_task/dt_simple-bids/sub-pd011/nirs/sub-pd011_task-SimpleDT_nirs.json'...\n",
      "Writing '/Volumes/dep/Allied Health Professions/NIB Team/Project Folders/DT and PD/fnirs/by_task/dt_simple-bids/sub-pd011/nirs/sub-pd011_task-SimpleDT_channels.tsv'...\n",
      "Copying data files to sub-pd011_task-SimpleDT_nirs.snirf\n",
      "Writing '/Volumes/dep/Allied Health Professions/NIB Team/Project Folders/DT and PD/fnirs/by_task/dt_simple-bids/sub-pd011/sub-pd011_scans.tsv'...\n",
      "Wrote /Volumes/dep/Allied Health Professions/NIB Team/Project Folders/DT and PD/fnirs/by_task/dt_simple-bids/sub-pd011/sub-pd011_scans.tsv entry with nirs/sub-pd011_task-SimpleDT_nirs.snirf.\n",
      "Finished processing pd011\n",
      "Processing subject: pd013\n",
      "Loading /Volumes/dep/Allied Health Professions/NIB Team/Project Folders/DT and PD/fnirs/by_task/dt_simple/pd013/2022-08-08_005_r1.snirf\n"
     ]
    },
    {
     "name": "stderr",
     "output_type": "stream",
     "text": [
      "/var/folders/jj/m5hzfl052j3_qxn15v5jc69w0000gp/T/ipykernel_56251/2663933189.py:28: RuntimeWarning: Coordinate frame could not be inferred from the raw object and the BIDSPath.space was none, skipping the writing of channel positions\n",
      "  write_raw_bids(raw, bids_path, overwrite=True)\n"
     ]
    },
    {
     "name": "stdout",
     "output_type": "stream",
     "text": [
      "Loading /Volumes/dep/Allied Health Professions/NIB Team/Project Folders/DT and PD/fnirs/by_task/dt_simple/pd013/2022-08-08_005_r1.snirf\n",
      "Writing '/Volumes/dep/Allied Health Professions/NIB Team/Project Folders/DT and PD/fnirs/by_task/dt_simple-bids/participants.tsv'...\n",
      "Writing '/Volumes/dep/Allied Health Professions/NIB Team/Project Folders/DT and PD/fnirs/by_task/dt_simple-bids/participants.json'...\n",
      "The provided raw data contains annotations, but you did not pass an \"event_id\" mapping from annotation descriptions to event codes. We will generate arbitrary event codes. To specify custom event codes, please pass \"event_id\".\n",
      "Used Annotations descriptions: ['8', 'Auto', 'DDK', 'Immediate Recall', 'Instructions', 'OT', 'ST Walk', 'Spontaneous']\n",
      "Writing '/Volumes/dep/Allied Health Professions/NIB Team/Project Folders/DT and PD/fnirs/by_task/dt_simple-bids/sub-pd013/nirs/sub-pd013_task-SimpleDT_events.tsv'...\n",
      "Writing '/Volumes/dep/Allied Health Professions/NIB Team/Project Folders/DT and PD/fnirs/by_task/dt_simple-bids/sub-pd013/nirs/sub-pd013_task-SimpleDT_events.json'...\n",
      "Writing '/Volumes/dep/Allied Health Professions/NIB Team/Project Folders/DT and PD/fnirs/by_task/dt_simple-bids/dataset_description.json'...\n",
      "Writing '/Volumes/dep/Allied Health Professions/NIB Team/Project Folders/DT and PD/fnirs/by_task/dt_simple-bids/sub-pd013/nirs/sub-pd013_task-SimpleDT_nirs.json'...\n",
      "Writing '/Volumes/dep/Allied Health Professions/NIB Team/Project Folders/DT and PD/fnirs/by_task/dt_simple-bids/sub-pd013/nirs/sub-pd013_task-SimpleDT_channels.tsv'...\n",
      "Copying data files to sub-pd013_task-SimpleDT_nirs.snirf\n",
      "Writing '/Volumes/dep/Allied Health Professions/NIB Team/Project Folders/DT and PD/fnirs/by_task/dt_simple-bids/sub-pd013/sub-pd013_scans.tsv'...\n",
      "Wrote /Volumes/dep/Allied Health Professions/NIB Team/Project Folders/DT and PD/fnirs/by_task/dt_simple-bids/sub-pd013/sub-pd013_scans.tsv entry with nirs/sub-pd013_task-SimpleDT_nirs.snirf.\n",
      "Finished processing pd013\n",
      "Processing subject: pd014\n",
      "Loading /Volumes/dep/Allied Health Professions/NIB Team/Project Folders/DT and PD/fnirs/by_task/dt_simple/pd014/2022-09-26_005_r1.snirf\n"
     ]
    },
    {
     "name": "stderr",
     "output_type": "stream",
     "text": [
      "/var/folders/jj/m5hzfl052j3_qxn15v5jc69w0000gp/T/ipykernel_56251/2663933189.py:28: RuntimeWarning: Coordinate frame could not be inferred from the raw object and the BIDSPath.space was none, skipping the writing of channel positions\n",
      "  write_raw_bids(raw, bids_path, overwrite=True)\n"
     ]
    },
    {
     "name": "stdout",
     "output_type": "stream",
     "text": [
      "Loading /Volumes/dep/Allied Health Professions/NIB Team/Project Folders/DT and PD/fnirs/by_task/dt_simple/pd014/2022-09-26_005_r1.snirf\n",
      "Writing '/Volumes/dep/Allied Health Professions/NIB Team/Project Folders/DT and PD/fnirs/by_task/dt_simple-bids/participants.tsv'...\n",
      "Writing '/Volumes/dep/Allied Health Professions/NIB Team/Project Folders/DT and PD/fnirs/by_task/dt_simple-bids/participants.json'...\n",
      "The provided raw data contains annotations, but you did not pass an \"event_id\" mapping from annotation descriptions to event codes. We will generate arbitrary event codes. To specify custom event codes, please pass \"event_id\".\n",
      "Used Annotations descriptions: ['8', 'Auto', 'DDK', 'Immediate Recall', 'Instructions', 'OT', 'ST Walk', 'Spontaneous']\n",
      "Writing '/Volumes/dep/Allied Health Professions/NIB Team/Project Folders/DT and PD/fnirs/by_task/dt_simple-bids/sub-pd014/nirs/sub-pd014_task-SimpleDT_events.tsv'...\n",
      "Writing '/Volumes/dep/Allied Health Professions/NIB Team/Project Folders/DT and PD/fnirs/by_task/dt_simple-bids/sub-pd014/nirs/sub-pd014_task-SimpleDT_events.json'...\n",
      "Writing '/Volumes/dep/Allied Health Professions/NIB Team/Project Folders/DT and PD/fnirs/by_task/dt_simple-bids/dataset_description.json'...\n",
      "Writing '/Volumes/dep/Allied Health Professions/NIB Team/Project Folders/DT and PD/fnirs/by_task/dt_simple-bids/sub-pd014/nirs/sub-pd014_task-SimpleDT_nirs.json'...\n",
      "Writing '/Volumes/dep/Allied Health Professions/NIB Team/Project Folders/DT and PD/fnirs/by_task/dt_simple-bids/sub-pd014/nirs/sub-pd014_task-SimpleDT_channels.tsv'...\n",
      "Copying data files to sub-pd014_task-SimpleDT_nirs.snirf\n"
     ]
    },
    {
     "name": "stderr",
     "output_type": "stream",
     "text": [
      "/var/folders/jj/m5hzfl052j3_qxn15v5jc69w0000gp/T/ipykernel_56251/2663933189.py:28: RuntimeWarning: Coordinate frame could not be inferred from the raw object and the BIDSPath.space was none, skipping the writing of channel positions\n",
      "  write_raw_bids(raw, bids_path, overwrite=True)\n"
     ]
    },
    {
     "name": "stdout",
     "output_type": "stream",
     "text": [
      "Writing '/Volumes/dep/Allied Health Professions/NIB Team/Project Folders/DT and PD/fnirs/by_task/dt_simple-bids/sub-pd014/sub-pd014_scans.tsv'...\n",
      "Wrote /Volumes/dep/Allied Health Professions/NIB Team/Project Folders/DT and PD/fnirs/by_task/dt_simple-bids/sub-pd014/sub-pd014_scans.tsv entry with nirs/sub-pd014_task-SimpleDT_nirs.snirf.\n",
      "Finished processing pd014\n",
      "Processing subject: pd015\n",
      "Loading /Volumes/dep/Allied Health Professions/NIB Team/Project Folders/DT and PD/fnirs/by_task/dt_simple/pd015/2022-09-26_005_r1.snirf\n",
      "Loading /Volumes/dep/Allied Health Professions/NIB Team/Project Folders/DT and PD/fnirs/by_task/dt_simple/pd015/2022-09-26_005_r1.snirf\n",
      "Writing '/Volumes/dep/Allied Health Professions/NIB Team/Project Folders/DT and PD/fnirs/by_task/dt_simple-bids/participants.tsv'...\n",
      "Writing '/Volumes/dep/Allied Health Professions/NIB Team/Project Folders/DT and PD/fnirs/by_task/dt_simple-bids/participants.json'...\n",
      "The provided raw data contains annotations, but you did not pass an \"event_id\" mapping from annotation descriptions to event codes. We will generate arbitrary event codes. To specify custom event codes, please pass \"event_id\".\n",
      "Used Annotations descriptions: ['8', 'Auto', 'DDK', 'Immediate Recall', 'Instructions', 'OT', 'ST Walk', 'Spontaneous']\n",
      "Writing '/Volumes/dep/Allied Health Professions/NIB Team/Project Folders/DT and PD/fnirs/by_task/dt_simple-bids/sub-pd015/nirs/sub-pd015_task-SimpleDT_events.tsv'...\n",
      "Writing '/Volumes/dep/Allied Health Professions/NIB Team/Project Folders/DT and PD/fnirs/by_task/dt_simple-bids/sub-pd015/nirs/sub-pd015_task-SimpleDT_events.json'...\n",
      "Writing '/Volumes/dep/Allied Health Professions/NIB Team/Project Folders/DT and PD/fnirs/by_task/dt_simple-bids/dataset_description.json'...\n",
      "Writing '/Volumes/dep/Allied Health Professions/NIB Team/Project Folders/DT and PD/fnirs/by_task/dt_simple-bids/sub-pd015/nirs/sub-pd015_task-SimpleDT_nirs.json'...\n",
      "Writing '/Volumes/dep/Allied Health Professions/NIB Team/Project Folders/DT and PD/fnirs/by_task/dt_simple-bids/sub-pd015/nirs/sub-pd015_task-SimpleDT_channels.tsv'...\n",
      "Copying data files to sub-pd015_task-SimpleDT_nirs.snirf\n"
     ]
    },
    {
     "name": "stderr",
     "output_type": "stream",
     "text": [
      "/var/folders/jj/m5hzfl052j3_qxn15v5jc69w0000gp/T/ipykernel_56251/2663933189.py:28: RuntimeWarning: Coordinate frame could not be inferred from the raw object and the BIDSPath.space was none, skipping the writing of channel positions\n",
      "  write_raw_bids(raw, bids_path, overwrite=True)\n"
     ]
    },
    {
     "name": "stdout",
     "output_type": "stream",
     "text": [
      "Writing '/Volumes/dep/Allied Health Professions/NIB Team/Project Folders/DT and PD/fnirs/by_task/dt_simple-bids/sub-pd015/sub-pd015_scans.tsv'...\n",
      "Wrote /Volumes/dep/Allied Health Professions/NIB Team/Project Folders/DT and PD/fnirs/by_task/dt_simple-bids/sub-pd015/sub-pd015_scans.tsv entry with nirs/sub-pd015_task-SimpleDT_nirs.snirf.\n",
      "Finished processing pd015\n",
      "Processing subject: pd016\n",
      "Loading /Volumes/dep/Allied Health Professions/NIB Team/Project Folders/DT and PD/fnirs/by_task/dt_simple/pd016/2022-10-25_005_r1.snirf\n",
      "Loading /Volumes/dep/Allied Health Professions/NIB Team/Project Folders/DT and PD/fnirs/by_task/dt_simple/pd016/2022-10-25_005_r1.snirf\n",
      "Writing '/Volumes/dep/Allied Health Professions/NIB Team/Project Folders/DT and PD/fnirs/by_task/dt_simple-bids/participants.tsv'...\n",
      "Writing '/Volumes/dep/Allied Health Professions/NIB Team/Project Folders/DT and PD/fnirs/by_task/dt_simple-bids/participants.json'...\n",
      "The provided raw data contains annotations, but you did not pass an \"event_id\" mapping from annotation descriptions to event codes. We will generate arbitrary event codes. To specify custom event codes, please pass \"event_id\".\n",
      "Used Annotations descriptions: ['8', 'Auto', 'DDK', 'Immediate Recall', 'Instructions', 'OT', 'ST Walk', 'Spontaneous']\n",
      "Writing '/Volumes/dep/Allied Health Professions/NIB Team/Project Folders/DT and PD/fnirs/by_task/dt_simple-bids/sub-pd016/nirs/sub-pd016_task-SimpleDT_events.tsv'...\n",
      "Writing '/Volumes/dep/Allied Health Professions/NIB Team/Project Folders/DT and PD/fnirs/by_task/dt_simple-bids/sub-pd016/nirs/sub-pd016_task-SimpleDT_events.json'...\n",
      "Writing '/Volumes/dep/Allied Health Professions/NIB Team/Project Folders/DT and PD/fnirs/by_task/dt_simple-bids/dataset_description.json'...\n",
      "Writing '/Volumes/dep/Allied Health Professions/NIB Team/Project Folders/DT and PD/fnirs/by_task/dt_simple-bids/sub-pd016/nirs/sub-pd016_task-SimpleDT_nirs.json'...\n",
      "Writing '/Volumes/dep/Allied Health Professions/NIB Team/Project Folders/DT and PD/fnirs/by_task/dt_simple-bids/sub-pd016/nirs/sub-pd016_task-SimpleDT_channels.tsv'...\n",
      "Copying data files to sub-pd016_task-SimpleDT_nirs.snirf\n",
      "Writing '/Volumes/dep/Allied Health Professions/NIB Team/Project Folders/DT and PD/fnirs/by_task/dt_simple-bids/sub-pd016/sub-pd016_scans.tsv'...\n",
      "Wrote /Volumes/dep/Allied Health Professions/NIB Team/Project Folders/DT and PD/fnirs/by_task/dt_simple-bids/sub-pd016/sub-pd016_scans.tsv entry with nirs/sub-pd016_task-SimpleDT_nirs.snirf.\n",
      "Finished processing pd016\n",
      "Processing subject: pd017\n",
      "Loading /Volumes/dep/Allied Health Professions/NIB Team/Project Folders/DT and PD/fnirs/by_task/dt_simple/pd017/2022-11-08_005_r1.snirf\n"
     ]
    },
    {
     "name": "stderr",
     "output_type": "stream",
     "text": [
      "/var/folders/jj/m5hzfl052j3_qxn15v5jc69w0000gp/T/ipykernel_56251/2663933189.py:28: RuntimeWarning: Coordinate frame could not be inferred from the raw object and the BIDSPath.space was none, skipping the writing of channel positions\n",
      "  write_raw_bids(raw, bids_path, overwrite=True)\n"
     ]
    },
    {
     "name": "stdout",
     "output_type": "stream",
     "text": [
      "Loading /Volumes/dep/Allied Health Professions/NIB Team/Project Folders/DT and PD/fnirs/by_task/dt_simple/pd017/2022-11-08_005_r1.snirf\n",
      "Writing '/Volumes/dep/Allied Health Professions/NIB Team/Project Folders/DT and PD/fnirs/by_task/dt_simple-bids/participants.tsv'...\n",
      "Writing '/Volumes/dep/Allied Health Professions/NIB Team/Project Folders/DT and PD/fnirs/by_task/dt_simple-bids/participants.json'...\n",
      "The provided raw data contains annotations, but you did not pass an \"event_id\" mapping from annotation descriptions to event codes. We will generate arbitrary event codes. To specify custom event codes, please pass \"event_id\".\n",
      "Used Annotations descriptions: ['8', 'Auto', 'DDK', 'Immediate Recall', 'Instructions', 'OT', 'ST Walk', 'Spontaneous']\n",
      "Writing '/Volumes/dep/Allied Health Professions/NIB Team/Project Folders/DT and PD/fnirs/by_task/dt_simple-bids/sub-pd017/nirs/sub-pd017_task-SimpleDT_events.tsv'...\n",
      "Writing '/Volumes/dep/Allied Health Professions/NIB Team/Project Folders/DT and PD/fnirs/by_task/dt_simple-bids/sub-pd017/nirs/sub-pd017_task-SimpleDT_events.json'...\n",
      "Writing '/Volumes/dep/Allied Health Professions/NIB Team/Project Folders/DT and PD/fnirs/by_task/dt_simple-bids/dataset_description.json'...\n",
      "Writing '/Volumes/dep/Allied Health Professions/NIB Team/Project Folders/DT and PD/fnirs/by_task/dt_simple-bids/sub-pd017/nirs/sub-pd017_task-SimpleDT_nirs.json'...\n",
      "Writing '/Volumes/dep/Allied Health Professions/NIB Team/Project Folders/DT and PD/fnirs/by_task/dt_simple-bids/sub-pd017/nirs/sub-pd017_task-SimpleDT_channels.tsv'...\n",
      "Copying data files to sub-pd017_task-SimpleDT_nirs.snirf\n"
     ]
    },
    {
     "name": "stderr",
     "output_type": "stream",
     "text": [
      "/var/folders/jj/m5hzfl052j3_qxn15v5jc69w0000gp/T/ipykernel_56251/2663933189.py:28: RuntimeWarning: Coordinate frame could not be inferred from the raw object and the BIDSPath.space was none, skipping the writing of channel positions\n",
      "  write_raw_bids(raw, bids_path, overwrite=True)\n"
     ]
    },
    {
     "name": "stdout",
     "output_type": "stream",
     "text": [
      "Writing '/Volumes/dep/Allied Health Professions/NIB Team/Project Folders/DT and PD/fnirs/by_task/dt_simple-bids/sub-pd017/sub-pd017_scans.tsv'...\n",
      "Wrote /Volumes/dep/Allied Health Professions/NIB Team/Project Folders/DT and PD/fnirs/by_task/dt_simple-bids/sub-pd017/sub-pd017_scans.tsv entry with nirs/sub-pd017_task-SimpleDT_nirs.snirf.\n",
      "Finished processing pd017\n",
      "Processing subject: pd018\n",
      "Loading /Volumes/dep/Allied Health Professions/NIB Team/Project Folders/DT and PD/fnirs/by_task/dt_simple/pd018/2022-12-06_005_r1.snirf\n",
      "Loading /Volumes/dep/Allied Health Professions/NIB Team/Project Folders/DT and PD/fnirs/by_task/dt_simple/pd018/2022-12-06_005_r1.snirf\n",
      "Writing '/Volumes/dep/Allied Health Professions/NIB Team/Project Folders/DT and PD/fnirs/by_task/dt_simple-bids/participants.tsv'...\n",
      "Writing '/Volumes/dep/Allied Health Professions/NIB Team/Project Folders/DT and PD/fnirs/by_task/dt_simple-bids/participants.json'...\n",
      "The provided raw data contains annotations, but you did not pass an \"event_id\" mapping from annotation descriptions to event codes. We will generate arbitrary event codes. To specify custom event codes, please pass \"event_id\".\n",
      "Used Annotations descriptions: ['Auto', 'DDK', 'Immediate Recall', 'Instructions', 'OT', 'ST Walk', 'Spontaneous']\n",
      "Writing '/Volumes/dep/Allied Health Professions/NIB Team/Project Folders/DT and PD/fnirs/by_task/dt_simple-bids/sub-pd018/nirs/sub-pd018_task-SimpleDT_events.tsv'...\n",
      "Writing '/Volumes/dep/Allied Health Professions/NIB Team/Project Folders/DT and PD/fnirs/by_task/dt_simple-bids/sub-pd018/nirs/sub-pd018_task-SimpleDT_events.json'...\n",
      "Writing '/Volumes/dep/Allied Health Professions/NIB Team/Project Folders/DT and PD/fnirs/by_task/dt_simple-bids/dataset_description.json'...\n",
      "Writing '/Volumes/dep/Allied Health Professions/NIB Team/Project Folders/DT and PD/fnirs/by_task/dt_simple-bids/sub-pd018/nirs/sub-pd018_task-SimpleDT_nirs.json'...\n",
      "Writing '/Volumes/dep/Allied Health Professions/NIB Team/Project Folders/DT and PD/fnirs/by_task/dt_simple-bids/sub-pd018/nirs/sub-pd018_task-SimpleDT_channels.tsv'...\n",
      "Copying data files to sub-pd018_task-SimpleDT_nirs.snirf\n"
     ]
    },
    {
     "name": "stderr",
     "output_type": "stream",
     "text": [
      "/var/folders/jj/m5hzfl052j3_qxn15v5jc69w0000gp/T/ipykernel_56251/2663933189.py:28: RuntimeWarning: Coordinate frame could not be inferred from the raw object and the BIDSPath.space was none, skipping the writing of channel positions\n",
      "  write_raw_bids(raw, bids_path, overwrite=True)\n"
     ]
    },
    {
     "name": "stdout",
     "output_type": "stream",
     "text": [
      "Writing '/Volumes/dep/Allied Health Professions/NIB Team/Project Folders/DT and PD/fnirs/by_task/dt_simple-bids/sub-pd018/sub-pd018_scans.tsv'...\n",
      "Wrote /Volumes/dep/Allied Health Professions/NIB Team/Project Folders/DT and PD/fnirs/by_task/dt_simple-bids/sub-pd018/sub-pd018_scans.tsv entry with nirs/sub-pd018_task-SimpleDT_nirs.snirf.\n",
      "Finished processing pd018\n",
      "Processing subject: pd019\n",
      "Loading /Volumes/dep/Allied Health Professions/NIB Team/Project Folders/DT and PD/fnirs/by_task/dt_simple/pd019/2022-11-08_005_r1.snirf\n",
      "Loading /Volumes/dep/Allied Health Professions/NIB Team/Project Folders/DT and PD/fnirs/by_task/dt_simple/pd019/2022-11-08_005_r1.snirf\n",
      "Writing '/Volumes/dep/Allied Health Professions/NIB Team/Project Folders/DT and PD/fnirs/by_task/dt_simple-bids/participants.tsv'...\n",
      "Writing '/Volumes/dep/Allied Health Professions/NIB Team/Project Folders/DT and PD/fnirs/by_task/dt_simple-bids/participants.json'...\n",
      "The provided raw data contains annotations, but you did not pass an \"event_id\" mapping from annotation descriptions to event codes. We will generate arbitrary event codes. To specify custom event codes, please pass \"event_id\".\n",
      "Used Annotations descriptions: ['8', 'Auto', 'DDK', 'Immediate Recall', 'Instructions', 'OT', 'ST Walk', 'Spontaneous']\n",
      "Writing '/Volumes/dep/Allied Health Professions/NIB Team/Project Folders/DT and PD/fnirs/by_task/dt_simple-bids/sub-pd019/nirs/sub-pd019_task-SimpleDT_events.tsv'...\n",
      "Writing '/Volumes/dep/Allied Health Professions/NIB Team/Project Folders/DT and PD/fnirs/by_task/dt_simple-bids/sub-pd019/nirs/sub-pd019_task-SimpleDT_events.json'...\n",
      "Writing '/Volumes/dep/Allied Health Professions/NIB Team/Project Folders/DT and PD/fnirs/by_task/dt_simple-bids/dataset_description.json'...\n",
      "Writing '/Volumes/dep/Allied Health Professions/NIB Team/Project Folders/DT and PD/fnirs/by_task/dt_simple-bids/sub-pd019/nirs/sub-pd019_task-SimpleDT_nirs.json'...\n",
      "Writing '/Volumes/dep/Allied Health Professions/NIB Team/Project Folders/DT and PD/fnirs/by_task/dt_simple-bids/sub-pd019/nirs/sub-pd019_task-SimpleDT_channels.tsv'...\n",
      "Copying data files to sub-pd019_task-SimpleDT_nirs.snirf\n"
     ]
    },
    {
     "name": "stderr",
     "output_type": "stream",
     "text": [
      "/var/folders/jj/m5hzfl052j3_qxn15v5jc69w0000gp/T/ipykernel_56251/2663933189.py:28: RuntimeWarning: Coordinate frame could not be inferred from the raw object and the BIDSPath.space was none, skipping the writing of channel positions\n",
      "  write_raw_bids(raw, bids_path, overwrite=True)\n"
     ]
    },
    {
     "name": "stdout",
     "output_type": "stream",
     "text": [
      "Writing '/Volumes/dep/Allied Health Professions/NIB Team/Project Folders/DT and PD/fnirs/by_task/dt_simple-bids/sub-pd019/sub-pd019_scans.tsv'...\n",
      "Wrote /Volumes/dep/Allied Health Professions/NIB Team/Project Folders/DT and PD/fnirs/by_task/dt_simple-bids/sub-pd019/sub-pd019_scans.tsv entry with nirs/sub-pd019_task-SimpleDT_nirs.snirf.\n",
      "Finished processing pd019\n",
      "Processing subject: pd020\n",
      "Loading /Volumes/dep/Allied Health Professions/NIB Team/Project Folders/DT and PD/fnirs/by_task/dt_simple/pd020/2023-03-03_004_r1.snirf\n",
      "Loading /Volumes/dep/Allied Health Professions/NIB Team/Project Folders/DT and PD/fnirs/by_task/dt_simple/pd020/2023-03-03_004_r1.snirf\n",
      "Writing '/Volumes/dep/Allied Health Professions/NIB Team/Project Folders/DT and PD/fnirs/by_task/dt_simple-bids/participants.tsv'...\n",
      "Writing '/Volumes/dep/Allied Health Professions/NIB Team/Project Folders/DT and PD/fnirs/by_task/dt_simple-bids/participants.json'...\n",
      "The provided raw data contains annotations, but you did not pass an \"event_id\" mapping from annotation descriptions to event codes. We will generate arbitrary event codes. To specify custom event codes, please pass \"event_id\".\n",
      "Used Annotations descriptions: ['8', 'Auto', 'DDK', 'Immediate Recall', 'Instructions', 'OT', 'ST Walk', 'Spontaneous']\n",
      "Writing '/Volumes/dep/Allied Health Professions/NIB Team/Project Folders/DT and PD/fnirs/by_task/dt_simple-bids/sub-pd020/nirs/sub-pd020_task-SimpleDT_events.tsv'...\n",
      "Writing '/Volumes/dep/Allied Health Professions/NIB Team/Project Folders/DT and PD/fnirs/by_task/dt_simple-bids/sub-pd020/nirs/sub-pd020_task-SimpleDT_events.json'...\n",
      "Writing '/Volumes/dep/Allied Health Professions/NIB Team/Project Folders/DT and PD/fnirs/by_task/dt_simple-bids/dataset_description.json'...\n",
      "Writing '/Volumes/dep/Allied Health Professions/NIB Team/Project Folders/DT and PD/fnirs/by_task/dt_simple-bids/sub-pd020/nirs/sub-pd020_task-SimpleDT_nirs.json'...\n",
      "Writing '/Volumes/dep/Allied Health Professions/NIB Team/Project Folders/DT and PD/fnirs/by_task/dt_simple-bids/sub-pd020/nirs/sub-pd020_task-SimpleDT_channels.tsv'...\n",
      "Copying data files to sub-pd020_task-SimpleDT_nirs.snirf\n",
      "Writing '/Volumes/dep/Allied Health Professions/NIB Team/Project Folders/DT and PD/fnirs/by_task/dt_simple-bids/sub-pd020/sub-pd020_scans.tsv'...\n",
      "Wrote /Volumes/dep/Allied Health Professions/NIB Team/Project Folders/DT and PD/fnirs/by_task/dt_simple-bids/sub-pd020/sub-pd020_scans.tsv entry with nirs/sub-pd020_task-SimpleDT_nirs.snirf.\n",
      "Finished processing pd020\n",
      "Processing subject: pd021\n",
      "Loading /Volumes/dep/Allied Health Professions/NIB Team/Project Folders/DT and PD/fnirs/by_task/dt_simple/pd021/2023-04-10_005_r1.snirf\n"
     ]
    },
    {
     "name": "stderr",
     "output_type": "stream",
     "text": [
      "/var/folders/jj/m5hzfl052j3_qxn15v5jc69w0000gp/T/ipykernel_56251/2663933189.py:28: RuntimeWarning: Coordinate frame could not be inferred from the raw object and the BIDSPath.space was none, skipping the writing of channel positions\n",
      "  write_raw_bids(raw, bids_path, overwrite=True)\n"
     ]
    },
    {
     "name": "stdout",
     "output_type": "stream",
     "text": [
      "Loading /Volumes/dep/Allied Health Professions/NIB Team/Project Folders/DT and PD/fnirs/by_task/dt_simple/pd021/2023-04-10_005_r1.snirf\n",
      "Writing '/Volumes/dep/Allied Health Professions/NIB Team/Project Folders/DT and PD/fnirs/by_task/dt_simple-bids/participants.tsv'...\n",
      "Writing '/Volumes/dep/Allied Health Professions/NIB Team/Project Folders/DT and PD/fnirs/by_task/dt_simple-bids/participants.json'...\n",
      "The provided raw data contains annotations, but you did not pass an \"event_id\" mapping from annotation descriptions to event codes. We will generate arbitrary event codes. To specify custom event codes, please pass \"event_id\".\n",
      "Used Annotations descriptions: ['8', 'Auto', 'DDK', 'Immediate Recall', 'Instructions', 'OT', 'ST Walk', 'Spontaneous']\n",
      "Writing '/Volumes/dep/Allied Health Professions/NIB Team/Project Folders/DT and PD/fnirs/by_task/dt_simple-bids/sub-pd021/nirs/sub-pd021_task-SimpleDT_events.tsv'...\n",
      "Writing '/Volumes/dep/Allied Health Professions/NIB Team/Project Folders/DT and PD/fnirs/by_task/dt_simple-bids/sub-pd021/nirs/sub-pd021_task-SimpleDT_events.json'...\n",
      "Writing '/Volumes/dep/Allied Health Professions/NIB Team/Project Folders/DT and PD/fnirs/by_task/dt_simple-bids/dataset_description.json'...\n",
      "Writing '/Volumes/dep/Allied Health Professions/NIB Team/Project Folders/DT and PD/fnirs/by_task/dt_simple-bids/sub-pd021/nirs/sub-pd021_task-SimpleDT_nirs.json'...\n",
      "Writing '/Volumes/dep/Allied Health Professions/NIB Team/Project Folders/DT and PD/fnirs/by_task/dt_simple-bids/sub-pd021/nirs/sub-pd021_task-SimpleDT_channels.tsv'...\n",
      "Copying data files to sub-pd021_task-SimpleDT_nirs.snirf\n",
      "Writing '/Volumes/dep/Allied Health Professions/NIB Team/Project Folders/DT and PD/fnirs/by_task/dt_simple-bids/sub-pd021/sub-pd021_scans.tsv'...\n",
      "Wrote /Volumes/dep/Allied Health Professions/NIB Team/Project Folders/DT and PD/fnirs/by_task/dt_simple-bids/sub-pd021/sub-pd021_scans.tsv entry with nirs/sub-pd021_task-SimpleDT_nirs.snirf.\n",
      "Finished processing pd021\n",
      "Processing subject: pd022\n",
      "Loading /Volumes/dep/Allied Health Professions/NIB Team/Project Folders/DT and PD/fnirs/by_task/dt_simple/pd022/2023-04-04_005_r1.snirf\n"
     ]
    },
    {
     "name": "stderr",
     "output_type": "stream",
     "text": [
      "/var/folders/jj/m5hzfl052j3_qxn15v5jc69w0000gp/T/ipykernel_56251/2663933189.py:28: RuntimeWarning: Coordinate frame could not be inferred from the raw object and the BIDSPath.space was none, skipping the writing of channel positions\n",
      "  write_raw_bids(raw, bids_path, overwrite=True)\n"
     ]
    },
    {
     "name": "stdout",
     "output_type": "stream",
     "text": [
      "Loading /Volumes/dep/Allied Health Professions/NIB Team/Project Folders/DT and PD/fnirs/by_task/dt_simple/pd022/2023-04-04_005_r1.snirf\n",
      "Writing '/Volumes/dep/Allied Health Professions/NIB Team/Project Folders/DT and PD/fnirs/by_task/dt_simple-bids/participants.tsv'...\n",
      "Writing '/Volumes/dep/Allied Health Professions/NIB Team/Project Folders/DT and PD/fnirs/by_task/dt_simple-bids/participants.json'...\n",
      "The provided raw data contains annotations, but you did not pass an \"event_id\" mapping from annotation descriptions to event codes. We will generate arbitrary event codes. To specify custom event codes, please pass \"event_id\".\n",
      "Used Annotations descriptions: ['Auto', 'DDK', 'Immediate Recall', 'Instructions', 'OT', 'ST Walk', 'Spontaneous']\n",
      "Writing '/Volumes/dep/Allied Health Professions/NIB Team/Project Folders/DT and PD/fnirs/by_task/dt_simple-bids/sub-pd022/nirs/sub-pd022_task-SimpleDT_events.tsv'...\n",
      "Writing '/Volumes/dep/Allied Health Professions/NIB Team/Project Folders/DT and PD/fnirs/by_task/dt_simple-bids/sub-pd022/nirs/sub-pd022_task-SimpleDT_events.json'...\n",
      "Writing '/Volumes/dep/Allied Health Professions/NIB Team/Project Folders/DT and PD/fnirs/by_task/dt_simple-bids/dataset_description.json'...\n",
      "Writing '/Volumes/dep/Allied Health Professions/NIB Team/Project Folders/DT and PD/fnirs/by_task/dt_simple-bids/sub-pd022/nirs/sub-pd022_task-SimpleDT_nirs.json'...\n",
      "Writing '/Volumes/dep/Allied Health Professions/NIB Team/Project Folders/DT and PD/fnirs/by_task/dt_simple-bids/sub-pd022/nirs/sub-pd022_task-SimpleDT_channels.tsv'...\n",
      "Copying data files to sub-pd022_task-SimpleDT_nirs.snirf\n",
      "Writing '/Volumes/dep/Allied Health Professions/NIB Team/Project Folders/DT and PD/fnirs/by_task/dt_simple-bids/sub-pd022/sub-pd022_scans.tsv'...\n",
      "Wrote /Volumes/dep/Allied Health Professions/NIB Team/Project Folders/DT and PD/fnirs/by_task/dt_simple-bids/sub-pd022/sub-pd022_scans.tsv entry with nirs/sub-pd022_task-SimpleDT_nirs.snirf.\n",
      "Finished processing pd022\n",
      "Processing subject: pd023\n",
      "Loading /Volumes/dep/Allied Health Professions/NIB Team/Project Folders/DT and PD/fnirs/by_task/dt_simple/pd023/2023-03-25_005_r1.snirf\n"
     ]
    },
    {
     "name": "stderr",
     "output_type": "stream",
     "text": [
      "/var/folders/jj/m5hzfl052j3_qxn15v5jc69w0000gp/T/ipykernel_56251/2663933189.py:28: RuntimeWarning: Coordinate frame could not be inferred from the raw object and the BIDSPath.space was none, skipping the writing of channel positions\n",
      "  write_raw_bids(raw, bids_path, overwrite=True)\n"
     ]
    },
    {
     "name": "stdout",
     "output_type": "stream",
     "text": [
      "Loading /Volumes/dep/Allied Health Professions/NIB Team/Project Folders/DT and PD/fnirs/by_task/dt_simple/pd023/2023-03-25_005_r1.snirf\n",
      "Writing '/Volumes/dep/Allied Health Professions/NIB Team/Project Folders/DT and PD/fnirs/by_task/dt_simple-bids/participants.tsv'...\n",
      "Writing '/Volumes/dep/Allied Health Professions/NIB Team/Project Folders/DT and PD/fnirs/by_task/dt_simple-bids/participants.json'...\n",
      "The provided raw data contains annotations, but you did not pass an \"event_id\" mapping from annotation descriptions to event codes. We will generate arbitrary event codes. To specify custom event codes, please pass \"event_id\".\n",
      "Used Annotations descriptions: ['8', 'Auto', 'DDK', 'Immediate Recall', 'Instructions', 'OT', 'ST Walk', 'Spontaneous']\n",
      "Writing '/Volumes/dep/Allied Health Professions/NIB Team/Project Folders/DT and PD/fnirs/by_task/dt_simple-bids/sub-pd023/nirs/sub-pd023_task-SimpleDT_events.tsv'...\n",
      "Writing '/Volumes/dep/Allied Health Professions/NIB Team/Project Folders/DT and PD/fnirs/by_task/dt_simple-bids/sub-pd023/nirs/sub-pd023_task-SimpleDT_events.json'...\n",
      "Writing '/Volumes/dep/Allied Health Professions/NIB Team/Project Folders/DT and PD/fnirs/by_task/dt_simple-bids/dataset_description.json'...\n",
      "Writing '/Volumes/dep/Allied Health Professions/NIB Team/Project Folders/DT and PD/fnirs/by_task/dt_simple-bids/sub-pd023/nirs/sub-pd023_task-SimpleDT_nirs.json'...\n",
      "Writing '/Volumes/dep/Allied Health Professions/NIB Team/Project Folders/DT and PD/fnirs/by_task/dt_simple-bids/sub-pd023/nirs/sub-pd023_task-SimpleDT_channels.tsv'...\n",
      "Copying data files to sub-pd023_task-SimpleDT_nirs.snirf\n",
      "Writing '/Volumes/dep/Allied Health Professions/NIB Team/Project Folders/DT and PD/fnirs/by_task/dt_simple-bids/sub-pd023/sub-pd023_scans.tsv'...\n",
      "Wrote /Volumes/dep/Allied Health Professions/NIB Team/Project Folders/DT and PD/fnirs/by_task/dt_simple-bids/sub-pd023/sub-pd023_scans.tsv entry with nirs/sub-pd023_task-SimpleDT_nirs.snirf.\n",
      "Finished processing pd023\n",
      "Processing subject: pd024\n",
      "Loading /Volumes/dep/Allied Health Professions/NIB Team/Project Folders/DT and PD/fnirs/by_task/dt_simple/pd024/2023-04-14_005_r1.snirf\n"
     ]
    },
    {
     "name": "stderr",
     "output_type": "stream",
     "text": [
      "/var/folders/jj/m5hzfl052j3_qxn15v5jc69w0000gp/T/ipykernel_56251/2663933189.py:28: RuntimeWarning: Coordinate frame could not be inferred from the raw object and the BIDSPath.space was none, skipping the writing of channel positions\n",
      "  write_raw_bids(raw, bids_path, overwrite=True)\n"
     ]
    },
    {
     "name": "stdout",
     "output_type": "stream",
     "text": [
      "Loading /Volumes/dep/Allied Health Professions/NIB Team/Project Folders/DT and PD/fnirs/by_task/dt_simple/pd024/2023-04-14_005_r1.snirf\n",
      "Writing '/Volumes/dep/Allied Health Professions/NIB Team/Project Folders/DT and PD/fnirs/by_task/dt_simple-bids/participants.tsv'...\n",
      "Writing '/Volumes/dep/Allied Health Professions/NIB Team/Project Folders/DT and PD/fnirs/by_task/dt_simple-bids/participants.json'...\n",
      "The provided raw data contains annotations, but you did not pass an \"event_id\" mapping from annotation descriptions to event codes. We will generate arbitrary event codes. To specify custom event codes, please pass \"event_id\".\n",
      "Used Annotations descriptions: ['8', 'Auto', 'DDK', 'Immediate Recall', 'Instructions', 'OT', 'ST Walk', 'Spontaneous']\n",
      "Writing '/Volumes/dep/Allied Health Professions/NIB Team/Project Folders/DT and PD/fnirs/by_task/dt_simple-bids/sub-pd024/nirs/sub-pd024_task-SimpleDT_events.tsv'...\n",
      "Writing '/Volumes/dep/Allied Health Professions/NIB Team/Project Folders/DT and PD/fnirs/by_task/dt_simple-bids/sub-pd024/nirs/sub-pd024_task-SimpleDT_events.json'...\n",
      "Writing '/Volumes/dep/Allied Health Professions/NIB Team/Project Folders/DT and PD/fnirs/by_task/dt_simple-bids/dataset_description.json'...\n",
      "Writing '/Volumes/dep/Allied Health Professions/NIB Team/Project Folders/DT and PD/fnirs/by_task/dt_simple-bids/sub-pd024/nirs/sub-pd024_task-SimpleDT_nirs.json'...\n",
      "Writing '/Volumes/dep/Allied Health Professions/NIB Team/Project Folders/DT and PD/fnirs/by_task/dt_simple-bids/sub-pd024/nirs/sub-pd024_task-SimpleDT_channels.tsv'...\n",
      "Copying data files to sub-pd024_task-SimpleDT_nirs.snirf\n",
      "Writing '/Volumes/dep/Allied Health Professions/NIB Team/Project Folders/DT and PD/fnirs/by_task/dt_simple-bids/sub-pd024/sub-pd024_scans.tsv'...\n",
      "Wrote /Volumes/dep/Allied Health Professions/NIB Team/Project Folders/DT and PD/fnirs/by_task/dt_simple-bids/sub-pd024/sub-pd024_scans.tsv entry with nirs/sub-pd024_task-SimpleDT_nirs.snirf.\n",
      "Finished processing pd024\n",
      "Processing subject: pd026\n",
      "Loading /Volumes/dep/Allied Health Professions/NIB Team/Project Folders/DT and PD/fnirs/by_task/dt_simple/pd026/2023-05-18_005_r1.snirf\n"
     ]
    },
    {
     "name": "stderr",
     "output_type": "stream",
     "text": [
      "/var/folders/jj/m5hzfl052j3_qxn15v5jc69w0000gp/T/ipykernel_56251/2663933189.py:28: RuntimeWarning: Coordinate frame could not be inferred from the raw object and the BIDSPath.space was none, skipping the writing of channel positions\n",
      "  write_raw_bids(raw, bids_path, overwrite=True)\n"
     ]
    },
    {
     "name": "stdout",
     "output_type": "stream",
     "text": [
      "Loading /Volumes/dep/Allied Health Professions/NIB Team/Project Folders/DT and PD/fnirs/by_task/dt_simple/pd026/2023-05-18_005_r1.snirf\n",
      "Writing '/Volumes/dep/Allied Health Professions/NIB Team/Project Folders/DT and PD/fnirs/by_task/dt_simple-bids/participants.tsv'...\n",
      "Writing '/Volumes/dep/Allied Health Professions/NIB Team/Project Folders/DT and PD/fnirs/by_task/dt_simple-bids/participants.json'...\n",
      "The provided raw data contains annotations, but you did not pass an \"event_id\" mapping from annotation descriptions to event codes. We will generate arbitrary event codes. To specify custom event codes, please pass \"event_id\".\n",
      "Used Annotations descriptions: ['8', 'Auto', 'DDK', 'Immediate Recall', 'Instructions', 'OT', 'ST Walk', 'Spontaneous']\n",
      "Writing '/Volumes/dep/Allied Health Professions/NIB Team/Project Folders/DT and PD/fnirs/by_task/dt_simple-bids/sub-pd026/nirs/sub-pd026_task-SimpleDT_events.tsv'...\n",
      "Writing '/Volumes/dep/Allied Health Professions/NIB Team/Project Folders/DT and PD/fnirs/by_task/dt_simple-bids/sub-pd026/nirs/sub-pd026_task-SimpleDT_events.json'...\n",
      "Writing '/Volumes/dep/Allied Health Professions/NIB Team/Project Folders/DT and PD/fnirs/by_task/dt_simple-bids/dataset_description.json'...\n",
      "Writing '/Volumes/dep/Allied Health Professions/NIB Team/Project Folders/DT and PD/fnirs/by_task/dt_simple-bids/sub-pd026/nirs/sub-pd026_task-SimpleDT_nirs.json'...\n",
      "Writing '/Volumes/dep/Allied Health Professions/NIB Team/Project Folders/DT and PD/fnirs/by_task/dt_simple-bids/sub-pd026/nirs/sub-pd026_task-SimpleDT_channels.tsv'...\n",
      "Copying data files to sub-pd026_task-SimpleDT_nirs.snirf\n",
      "Writing '/Volumes/dep/Allied Health Professions/NIB Team/Project Folders/DT and PD/fnirs/by_task/dt_simple-bids/sub-pd026/sub-pd026_scans.tsv'...\n",
      "Wrote /Volumes/dep/Allied Health Professions/NIB Team/Project Folders/DT and PD/fnirs/by_task/dt_simple-bids/sub-pd026/sub-pd026_scans.tsv entry with nirs/sub-pd026_task-SimpleDT_nirs.snirf.\n",
      "Finished processing pd026\n",
      "Processing subject: pd027\n",
      "Loading /Volumes/dep/Allied Health Professions/NIB Team/Project Folders/DT and PD/fnirs/by_task/dt_simple/pd027/2023-05-30_006_r1.snirf\n"
     ]
    },
    {
     "name": "stderr",
     "output_type": "stream",
     "text": [
      "/var/folders/jj/m5hzfl052j3_qxn15v5jc69w0000gp/T/ipykernel_56251/2663933189.py:28: RuntimeWarning: Coordinate frame could not be inferred from the raw object and the BIDSPath.space was none, skipping the writing of channel positions\n",
      "  write_raw_bids(raw, bids_path, overwrite=True)\n"
     ]
    },
    {
     "name": "stdout",
     "output_type": "stream",
     "text": [
      "Loading /Volumes/dep/Allied Health Professions/NIB Team/Project Folders/DT and PD/fnirs/by_task/dt_simple/pd027/2023-05-30_006_r1.snirf\n",
      "Writing '/Volumes/dep/Allied Health Professions/NIB Team/Project Folders/DT and PD/fnirs/by_task/dt_simple-bids/participants.tsv'...\n",
      "Writing '/Volumes/dep/Allied Health Professions/NIB Team/Project Folders/DT and PD/fnirs/by_task/dt_simple-bids/participants.json'...\n",
      "The provided raw data contains annotations, but you did not pass an \"event_id\" mapping from annotation descriptions to event codes. We will generate arbitrary event codes. To specify custom event codes, please pass \"event_id\".\n",
      "Used Annotations descriptions: ['8', 'Auto', 'DDK', 'Immediate Recall', 'Instructions', 'OT', 'ST Walk', 'Spontaneous']\n",
      "Writing '/Volumes/dep/Allied Health Professions/NIB Team/Project Folders/DT and PD/fnirs/by_task/dt_simple-bids/sub-pd027/nirs/sub-pd027_task-SimpleDT_events.tsv'...\n",
      "Writing '/Volumes/dep/Allied Health Professions/NIB Team/Project Folders/DT and PD/fnirs/by_task/dt_simple-bids/sub-pd027/nirs/sub-pd027_task-SimpleDT_events.json'...\n",
      "Writing '/Volumes/dep/Allied Health Professions/NIB Team/Project Folders/DT and PD/fnirs/by_task/dt_simple-bids/dataset_description.json'...\n",
      "Writing '/Volumes/dep/Allied Health Professions/NIB Team/Project Folders/DT and PD/fnirs/by_task/dt_simple-bids/sub-pd027/nirs/sub-pd027_task-SimpleDT_nirs.json'...\n",
      "Writing '/Volumes/dep/Allied Health Professions/NIB Team/Project Folders/DT and PD/fnirs/by_task/dt_simple-bids/sub-pd027/nirs/sub-pd027_task-SimpleDT_channels.tsv'...\n",
      "Copying data files to sub-pd027_task-SimpleDT_nirs.snirf\n",
      "Writing '/Volumes/dep/Allied Health Professions/NIB Team/Project Folders/DT and PD/fnirs/by_task/dt_simple-bids/sub-pd027/sub-pd027_scans.tsv'...\n",
      "Wrote /Volumes/dep/Allied Health Professions/NIB Team/Project Folders/DT and PD/fnirs/by_task/dt_simple-bids/sub-pd027/sub-pd027_scans.tsv entry with nirs/sub-pd027_task-SimpleDT_nirs.snirf.\n",
      "Finished processing pd027\n",
      "Processing subject: pd028\n",
      "Loading /Volumes/dep/Allied Health Professions/NIB Team/Project Folders/DT and PD/fnirs/by_task/dt_simple/pd028/2023-06-12_006_r1.snirf\n"
     ]
    },
    {
     "name": "stderr",
     "output_type": "stream",
     "text": [
      "/var/folders/jj/m5hzfl052j3_qxn15v5jc69w0000gp/T/ipykernel_56251/2663933189.py:28: RuntimeWarning: Coordinate frame could not be inferred from the raw object and the BIDSPath.space was none, skipping the writing of channel positions\n",
      "  write_raw_bids(raw, bids_path, overwrite=True)\n"
     ]
    },
    {
     "name": "stdout",
     "output_type": "stream",
     "text": [
      "Loading /Volumes/dep/Allied Health Professions/NIB Team/Project Folders/DT and PD/fnirs/by_task/dt_simple/pd028/2023-06-12_006_r1.snirf\n",
      "Writing '/Volumes/dep/Allied Health Professions/NIB Team/Project Folders/DT and PD/fnirs/by_task/dt_simple-bids/participants.tsv'...\n",
      "Writing '/Volumes/dep/Allied Health Professions/NIB Team/Project Folders/DT and PD/fnirs/by_task/dt_simple-bids/participants.json'...\n",
      "The provided raw data contains annotations, but you did not pass an \"event_id\" mapping from annotation descriptions to event codes. We will generate arbitrary event codes. To specify custom event codes, please pass \"event_id\".\n",
      "Used Annotations descriptions: ['8', 'Auto', 'DDK', 'Immediate Recall', 'Instructions', 'OT', 'ST Walk', 'Spontaneous']\n",
      "Writing '/Volumes/dep/Allied Health Professions/NIB Team/Project Folders/DT and PD/fnirs/by_task/dt_simple-bids/sub-pd028/nirs/sub-pd028_task-SimpleDT_events.tsv'...\n",
      "Writing '/Volumes/dep/Allied Health Professions/NIB Team/Project Folders/DT and PD/fnirs/by_task/dt_simple-bids/sub-pd028/nirs/sub-pd028_task-SimpleDT_events.json'...\n",
      "Writing '/Volumes/dep/Allied Health Professions/NIB Team/Project Folders/DT and PD/fnirs/by_task/dt_simple-bids/dataset_description.json'...\n",
      "Writing '/Volumes/dep/Allied Health Professions/NIB Team/Project Folders/DT and PD/fnirs/by_task/dt_simple-bids/sub-pd028/nirs/sub-pd028_task-SimpleDT_nirs.json'...\n",
      "Writing '/Volumes/dep/Allied Health Professions/NIB Team/Project Folders/DT and PD/fnirs/by_task/dt_simple-bids/sub-pd028/nirs/sub-pd028_task-SimpleDT_channels.tsv'...\n",
      "Copying data files to sub-pd028_task-SimpleDT_nirs.snirf\n",
      "Writing '/Volumes/dep/Allied Health Professions/NIB Team/Project Folders/DT and PD/fnirs/by_task/dt_simple-bids/sub-pd028/sub-pd028_scans.tsv'...\n",
      "Wrote /Volumes/dep/Allied Health Professions/NIB Team/Project Folders/DT and PD/fnirs/by_task/dt_simple-bids/sub-pd028/sub-pd028_scans.tsv entry with nirs/sub-pd028_task-SimpleDT_nirs.snirf.\n",
      "Finished processing pd028\n",
      "Processing subject: pd029\n",
      "Loading /Volumes/dep/Allied Health Professions/NIB Team/Project Folders/DT and PD/fnirs/by_task/dt_simple/pd029/2023-06-12_006_r1.snirf\n"
     ]
    },
    {
     "name": "stderr",
     "output_type": "stream",
     "text": [
      "/var/folders/jj/m5hzfl052j3_qxn15v5jc69w0000gp/T/ipykernel_56251/2663933189.py:28: RuntimeWarning: Coordinate frame could not be inferred from the raw object and the BIDSPath.space was none, skipping the writing of channel positions\n",
      "  write_raw_bids(raw, bids_path, overwrite=True)\n"
     ]
    },
    {
     "name": "stdout",
     "output_type": "stream",
     "text": [
      "Loading /Volumes/dep/Allied Health Professions/NIB Team/Project Folders/DT and PD/fnirs/by_task/dt_simple/pd029/2023-06-12_006_r1.snirf\n",
      "Writing '/Volumes/dep/Allied Health Professions/NIB Team/Project Folders/DT and PD/fnirs/by_task/dt_simple-bids/participants.tsv'...\n",
      "Writing '/Volumes/dep/Allied Health Professions/NIB Team/Project Folders/DT and PD/fnirs/by_task/dt_simple-bids/participants.json'...\n",
      "The provided raw data contains annotations, but you did not pass an \"event_id\" mapping from annotation descriptions to event codes. We will generate arbitrary event codes. To specify custom event codes, please pass \"event_id\".\n",
      "Used Annotations descriptions: ['8', 'Auto', 'DDK', 'Immediate Recall', 'Instructions', 'OT', 'ST Walk', 'Spontaneous']\n",
      "Writing '/Volumes/dep/Allied Health Professions/NIB Team/Project Folders/DT and PD/fnirs/by_task/dt_simple-bids/sub-pd029/nirs/sub-pd029_task-SimpleDT_events.tsv'...\n",
      "Writing '/Volumes/dep/Allied Health Professions/NIB Team/Project Folders/DT and PD/fnirs/by_task/dt_simple-bids/sub-pd029/nirs/sub-pd029_task-SimpleDT_events.json'...\n",
      "Writing '/Volumes/dep/Allied Health Professions/NIB Team/Project Folders/DT and PD/fnirs/by_task/dt_simple-bids/dataset_description.json'...\n",
      "Writing '/Volumes/dep/Allied Health Professions/NIB Team/Project Folders/DT and PD/fnirs/by_task/dt_simple-bids/sub-pd029/nirs/sub-pd029_task-SimpleDT_nirs.json'...\n",
      "Writing '/Volumes/dep/Allied Health Professions/NIB Team/Project Folders/DT and PD/fnirs/by_task/dt_simple-bids/sub-pd029/nirs/sub-pd029_task-SimpleDT_channels.tsv'...\n",
      "Copying data files to sub-pd029_task-SimpleDT_nirs.snirf\n",
      "Writing '/Volumes/dep/Allied Health Professions/NIB Team/Project Folders/DT and PD/fnirs/by_task/dt_simple-bids/sub-pd029/sub-pd029_scans.tsv'...\n",
      "Wrote /Volumes/dep/Allied Health Professions/NIB Team/Project Folders/DT and PD/fnirs/by_task/dt_simple-bids/sub-pd029/sub-pd029_scans.tsv entry with nirs/sub-pd029_task-SimpleDT_nirs.snirf.\n",
      "Finished processing pd029\n",
      "Processing subject: pd030\n",
      "Loading /Volumes/dep/Allied Health Professions/NIB Team/Project Folders/DT and PD/fnirs/by_task/dt_simple/pd030/2023-06-27_005_r1.snirf\n"
     ]
    },
    {
     "name": "stderr",
     "output_type": "stream",
     "text": [
      "/var/folders/jj/m5hzfl052j3_qxn15v5jc69w0000gp/T/ipykernel_56251/2663933189.py:28: RuntimeWarning: Coordinate frame could not be inferred from the raw object and the BIDSPath.space was none, skipping the writing of channel positions\n",
      "  write_raw_bids(raw, bids_path, overwrite=True)\n"
     ]
    },
    {
     "name": "stdout",
     "output_type": "stream",
     "text": [
      "Loading /Volumes/dep/Allied Health Professions/NIB Team/Project Folders/DT and PD/fnirs/by_task/dt_simple/pd030/2023-06-27_005_r1.snirf\n",
      "Writing '/Volumes/dep/Allied Health Professions/NIB Team/Project Folders/DT and PD/fnirs/by_task/dt_simple-bids/participants.tsv'...\n",
      "Writing '/Volumes/dep/Allied Health Professions/NIB Team/Project Folders/DT and PD/fnirs/by_task/dt_simple-bids/participants.json'...\n",
      "The provided raw data contains annotations, but you did not pass an \"event_id\" mapping from annotation descriptions to event codes. We will generate arbitrary event codes. To specify custom event codes, please pass \"event_id\".\n",
      "Used Annotations descriptions: ['8', 'Auto', 'DDK', 'Immediate Recall', 'Instructions', 'OT', 'ST Walk', 'Spontaneous']\n",
      "Writing '/Volumes/dep/Allied Health Professions/NIB Team/Project Folders/DT and PD/fnirs/by_task/dt_simple-bids/sub-pd030/nirs/sub-pd030_task-SimpleDT_events.tsv'...\n",
      "Writing '/Volumes/dep/Allied Health Professions/NIB Team/Project Folders/DT and PD/fnirs/by_task/dt_simple-bids/sub-pd030/nirs/sub-pd030_task-SimpleDT_events.json'...\n",
      "Writing '/Volumes/dep/Allied Health Professions/NIB Team/Project Folders/DT and PD/fnirs/by_task/dt_simple-bids/dataset_description.json'...\n",
      "Writing '/Volumes/dep/Allied Health Professions/NIB Team/Project Folders/DT and PD/fnirs/by_task/dt_simple-bids/sub-pd030/nirs/sub-pd030_task-SimpleDT_nirs.json'...\n",
      "Writing '/Volumes/dep/Allied Health Professions/NIB Team/Project Folders/DT and PD/fnirs/by_task/dt_simple-bids/sub-pd030/nirs/sub-pd030_task-SimpleDT_channels.tsv'...\n",
      "Copying data files to sub-pd030_task-SimpleDT_nirs.snirf\n",
      "Writing '/Volumes/dep/Allied Health Professions/NIB Team/Project Folders/DT and PD/fnirs/by_task/dt_simple-bids/sub-pd030/sub-pd030_scans.tsv'...\n",
      "Wrote /Volumes/dep/Allied Health Professions/NIB Team/Project Folders/DT and PD/fnirs/by_task/dt_simple-bids/sub-pd030/sub-pd030_scans.tsv entry with nirs/sub-pd030_task-SimpleDT_nirs.snirf.\n",
      "Finished processing pd030\n",
      "Processing subject: pd031\n",
      "Loading /Volumes/dep/Allied Health Professions/NIB Team/Project Folders/DT and PD/fnirs/by_task/dt_simple/pd031/2023-07-11_006_r1.snirf\n"
     ]
    },
    {
     "name": "stderr",
     "output_type": "stream",
     "text": [
      "/var/folders/jj/m5hzfl052j3_qxn15v5jc69w0000gp/T/ipykernel_56251/2663933189.py:28: RuntimeWarning: Coordinate frame could not be inferred from the raw object and the BIDSPath.space was none, skipping the writing of channel positions\n",
      "  write_raw_bids(raw, bids_path, overwrite=True)\n"
     ]
    },
    {
     "name": "stdout",
     "output_type": "stream",
     "text": [
      "Loading /Volumes/dep/Allied Health Professions/NIB Team/Project Folders/DT and PD/fnirs/by_task/dt_simple/pd031/2023-07-11_006_r1.snirf\n",
      "Writing '/Volumes/dep/Allied Health Professions/NIB Team/Project Folders/DT and PD/fnirs/by_task/dt_simple-bids/participants.tsv'...\n",
      "Writing '/Volumes/dep/Allied Health Professions/NIB Team/Project Folders/DT and PD/fnirs/by_task/dt_simple-bids/participants.json'...\n",
      "The provided raw data contains annotations, but you did not pass an \"event_id\" mapping from annotation descriptions to event codes. We will generate arbitrary event codes. To specify custom event codes, please pass \"event_id\".\n",
      "Used Annotations descriptions: ['8', 'Auto', 'DDK', 'Immediate Recall', 'Instructions', 'OT', 'ST Walk', 'Spontaneous']\n",
      "Writing '/Volumes/dep/Allied Health Professions/NIB Team/Project Folders/DT and PD/fnirs/by_task/dt_simple-bids/sub-pd031/nirs/sub-pd031_task-SimpleDT_events.tsv'...\n",
      "Writing '/Volumes/dep/Allied Health Professions/NIB Team/Project Folders/DT and PD/fnirs/by_task/dt_simple-bids/sub-pd031/nirs/sub-pd031_task-SimpleDT_events.json'...\n",
      "Writing '/Volumes/dep/Allied Health Professions/NIB Team/Project Folders/DT and PD/fnirs/by_task/dt_simple-bids/dataset_description.json'...\n",
      "Writing '/Volumes/dep/Allied Health Professions/NIB Team/Project Folders/DT and PD/fnirs/by_task/dt_simple-bids/sub-pd031/nirs/sub-pd031_task-SimpleDT_nirs.json'...\n",
      "Writing '/Volumes/dep/Allied Health Professions/NIB Team/Project Folders/DT and PD/fnirs/by_task/dt_simple-bids/sub-pd031/nirs/sub-pd031_task-SimpleDT_channels.tsv'...\n",
      "Copying data files to sub-pd031_task-SimpleDT_nirs.snirf\n",
      "Writing '/Volumes/dep/Allied Health Professions/NIB Team/Project Folders/DT and PD/fnirs/by_task/dt_simple-bids/sub-pd031/sub-pd031_scans.tsv'...\n",
      "Wrote /Volumes/dep/Allied Health Professions/NIB Team/Project Folders/DT and PD/fnirs/by_task/dt_simple-bids/sub-pd031/sub-pd031_scans.tsv entry with nirs/sub-pd031_task-SimpleDT_nirs.snirf.\n",
      "Finished processing pd031\n",
      "Processing subject: pd032\n",
      "Loading /Volumes/dep/Allied Health Professions/NIB Team/Project Folders/DT and PD/fnirs/by_task/dt_simple/pd032/2023-08-01_007_r1.snirf\n"
     ]
    },
    {
     "name": "stderr",
     "output_type": "stream",
     "text": [
      "/var/folders/jj/m5hzfl052j3_qxn15v5jc69w0000gp/T/ipykernel_56251/2663933189.py:28: RuntimeWarning: Coordinate frame could not be inferred from the raw object and the BIDSPath.space was none, skipping the writing of channel positions\n",
      "  write_raw_bids(raw, bids_path, overwrite=True)\n"
     ]
    },
    {
     "name": "stdout",
     "output_type": "stream",
     "text": [
      "Loading /Volumes/dep/Allied Health Professions/NIB Team/Project Folders/DT and PD/fnirs/by_task/dt_simple/pd032/2023-08-01_007_r1.snirf\n",
      "Writing '/Volumes/dep/Allied Health Professions/NIB Team/Project Folders/DT and PD/fnirs/by_task/dt_simple-bids/participants.tsv'...\n",
      "Writing '/Volumes/dep/Allied Health Professions/NIB Team/Project Folders/DT and PD/fnirs/by_task/dt_simple-bids/participants.json'...\n",
      "The provided raw data contains annotations, but you did not pass an \"event_id\" mapping from annotation descriptions to event codes. We will generate arbitrary event codes. To specify custom event codes, please pass \"event_id\".\n",
      "Used Annotations descriptions: ['8', 'Auto', 'DDK', 'Immediate Recall', 'Instructions', 'OT', 'ST Walk', 'Spontaneous']\n",
      "Writing '/Volumes/dep/Allied Health Professions/NIB Team/Project Folders/DT and PD/fnirs/by_task/dt_simple-bids/sub-pd032/nirs/sub-pd032_task-SimpleDT_events.tsv'...\n",
      "Writing '/Volumes/dep/Allied Health Professions/NIB Team/Project Folders/DT and PD/fnirs/by_task/dt_simple-bids/sub-pd032/nirs/sub-pd032_task-SimpleDT_events.json'...\n",
      "Writing '/Volumes/dep/Allied Health Professions/NIB Team/Project Folders/DT and PD/fnirs/by_task/dt_simple-bids/dataset_description.json'...\n",
      "Writing '/Volumes/dep/Allied Health Professions/NIB Team/Project Folders/DT and PD/fnirs/by_task/dt_simple-bids/sub-pd032/nirs/sub-pd032_task-SimpleDT_nirs.json'...\n",
      "Writing '/Volumes/dep/Allied Health Professions/NIB Team/Project Folders/DT and PD/fnirs/by_task/dt_simple-bids/sub-pd032/nirs/sub-pd032_task-SimpleDT_channels.tsv'...\n",
      "Copying data files to sub-pd032_task-SimpleDT_nirs.snirf\n",
      "Writing '/Volumes/dep/Allied Health Professions/NIB Team/Project Folders/DT and PD/fnirs/by_task/dt_simple-bids/sub-pd032/sub-pd032_scans.tsv'...\n",
      "Wrote /Volumes/dep/Allied Health Professions/NIB Team/Project Folders/DT and PD/fnirs/by_task/dt_simple-bids/sub-pd032/sub-pd032_scans.tsv entry with nirs/sub-pd032_task-SimpleDT_nirs.snirf.\n",
      "Finished processing pd032\n",
      "Processing subject: pd033\n",
      "Loading /Volumes/dep/Allied Health Professions/NIB Team/Project Folders/DT and PD/fnirs/by_task/dt_simple/pd033/2023-08-22_006_r1.snirf\n"
     ]
    },
    {
     "name": "stderr",
     "output_type": "stream",
     "text": [
      "/var/folders/jj/m5hzfl052j3_qxn15v5jc69w0000gp/T/ipykernel_56251/2663933189.py:28: RuntimeWarning: Coordinate frame could not be inferred from the raw object and the BIDSPath.space was none, skipping the writing of channel positions\n",
      "  write_raw_bids(raw, bids_path, overwrite=True)\n"
     ]
    },
    {
     "name": "stdout",
     "output_type": "stream",
     "text": [
      "Loading /Volumes/dep/Allied Health Professions/NIB Team/Project Folders/DT and PD/fnirs/by_task/dt_simple/pd033/2023-08-22_006_r1.snirf\n",
      "Writing '/Volumes/dep/Allied Health Professions/NIB Team/Project Folders/DT and PD/fnirs/by_task/dt_simple-bids/participants.tsv'...\n",
      "Writing '/Volumes/dep/Allied Health Professions/NIB Team/Project Folders/DT and PD/fnirs/by_task/dt_simple-bids/participants.json'...\n",
      "The provided raw data contains annotations, but you did not pass an \"event_id\" mapping from annotation descriptions to event codes. We will generate arbitrary event codes. To specify custom event codes, please pass \"event_id\".\n",
      "Used Annotations descriptions: ['8', 'Auto', 'DDK', 'Immediate Recall', 'Instructions', 'OT', 'ST Walk', 'Spontaneous']\n",
      "Writing '/Volumes/dep/Allied Health Professions/NIB Team/Project Folders/DT and PD/fnirs/by_task/dt_simple-bids/sub-pd033/nirs/sub-pd033_task-SimpleDT_events.tsv'...\n",
      "Writing '/Volumes/dep/Allied Health Professions/NIB Team/Project Folders/DT and PD/fnirs/by_task/dt_simple-bids/sub-pd033/nirs/sub-pd033_task-SimpleDT_events.json'...\n",
      "Writing '/Volumes/dep/Allied Health Professions/NIB Team/Project Folders/DT and PD/fnirs/by_task/dt_simple-bids/dataset_description.json'...\n",
      "Writing '/Volumes/dep/Allied Health Professions/NIB Team/Project Folders/DT and PD/fnirs/by_task/dt_simple-bids/sub-pd033/nirs/sub-pd033_task-SimpleDT_nirs.json'...\n",
      "Writing '/Volumes/dep/Allied Health Professions/NIB Team/Project Folders/DT and PD/fnirs/by_task/dt_simple-bids/sub-pd033/nirs/sub-pd033_task-SimpleDT_channels.tsv'...\n",
      "Copying data files to sub-pd033_task-SimpleDT_nirs.snirf\n",
      "Writing '/Volumes/dep/Allied Health Professions/NIB Team/Project Folders/DT and PD/fnirs/by_task/dt_simple-bids/sub-pd033/sub-pd033_scans.tsv'...\n",
      "Wrote /Volumes/dep/Allied Health Professions/NIB Team/Project Folders/DT and PD/fnirs/by_task/dt_simple-bids/sub-pd033/sub-pd033_scans.tsv entry with nirs/sub-pd033_task-SimpleDT_nirs.snirf.\n",
      "Finished processing pd033\n",
      "Processing subject: pd034\n",
      "Loading /Volumes/dep/Allied Health Professions/NIB Team/Project Folders/DT and PD/fnirs/by_task/dt_simple/pd034/2023-10-23_006_r1.snirf\n"
     ]
    },
    {
     "name": "stderr",
     "output_type": "stream",
     "text": [
      "/var/folders/jj/m5hzfl052j3_qxn15v5jc69w0000gp/T/ipykernel_56251/2663933189.py:28: RuntimeWarning: Coordinate frame could not be inferred from the raw object and the BIDSPath.space was none, skipping the writing of channel positions\n",
      "  write_raw_bids(raw, bids_path, overwrite=True)\n"
     ]
    },
    {
     "name": "stdout",
     "output_type": "stream",
     "text": [
      "Loading /Volumes/dep/Allied Health Professions/NIB Team/Project Folders/DT and PD/fnirs/by_task/dt_simple/pd034/2023-10-23_006_r1.snirf\n",
      "Writing '/Volumes/dep/Allied Health Professions/NIB Team/Project Folders/DT and PD/fnirs/by_task/dt_simple-bids/participants.tsv'...\n",
      "Writing '/Volumes/dep/Allied Health Professions/NIB Team/Project Folders/DT and PD/fnirs/by_task/dt_simple-bids/participants.json'...\n",
      "The provided raw data contains annotations, but you did not pass an \"event_id\" mapping from annotation descriptions to event codes. We will generate arbitrary event codes. To specify custom event codes, please pass \"event_id\".\n",
      "Used Annotations descriptions: ['8', 'Auto', 'DDK', 'Immediate Recall', 'Instructions', 'OT', 'ST Walk', 'Spontaneous']\n",
      "Writing '/Volumes/dep/Allied Health Professions/NIB Team/Project Folders/DT and PD/fnirs/by_task/dt_simple-bids/sub-pd034/nirs/sub-pd034_task-SimpleDT_events.tsv'...\n",
      "Writing '/Volumes/dep/Allied Health Professions/NIB Team/Project Folders/DT and PD/fnirs/by_task/dt_simple-bids/sub-pd034/nirs/sub-pd034_task-SimpleDT_events.json'...\n",
      "Writing '/Volumes/dep/Allied Health Professions/NIB Team/Project Folders/DT and PD/fnirs/by_task/dt_simple-bids/dataset_description.json'...\n",
      "Writing '/Volumes/dep/Allied Health Professions/NIB Team/Project Folders/DT and PD/fnirs/by_task/dt_simple-bids/sub-pd034/nirs/sub-pd034_task-SimpleDT_nirs.json'...\n",
      "Writing '/Volumes/dep/Allied Health Professions/NIB Team/Project Folders/DT and PD/fnirs/by_task/dt_simple-bids/sub-pd034/nirs/sub-pd034_task-SimpleDT_channels.tsv'...\n",
      "Copying data files to sub-pd034_task-SimpleDT_nirs.snirf\n",
      "Writing '/Volumes/dep/Allied Health Professions/NIB Team/Project Folders/DT and PD/fnirs/by_task/dt_simple-bids/sub-pd034/sub-pd034_scans.tsv'...\n",
      "Wrote /Volumes/dep/Allied Health Professions/NIB Team/Project Folders/DT and PD/fnirs/by_task/dt_simple-bids/sub-pd034/sub-pd034_scans.tsv entry with nirs/sub-pd034_task-SimpleDT_nirs.snirf.\n",
      "Finished processing pd034\n",
      "Processing subject: pd035\n",
      "Loading /Volumes/dep/Allied Health Professions/NIB Team/Project Folders/DT and PD/fnirs/by_task/dt_simple/pd035/2023-12-04_005.snirf\n"
     ]
    },
    {
     "name": "stderr",
     "output_type": "stream",
     "text": [
      "/var/folders/jj/m5hzfl052j3_qxn15v5jc69w0000gp/T/ipykernel_56251/2663933189.py:28: RuntimeWarning: Coordinate frame could not be inferred from the raw object and the BIDSPath.space was none, skipping the writing of channel positions\n",
      "  write_raw_bids(raw, bids_path, overwrite=True)\n"
     ]
    },
    {
     "name": "stdout",
     "output_type": "stream",
     "text": [
      "Loading /Volumes/dep/Allied Health Professions/NIB Team/Project Folders/DT and PD/fnirs/by_task/dt_simple/pd035/2023-12-04_005.snirf\n",
      "Writing '/Volumes/dep/Allied Health Professions/NIB Team/Project Folders/DT and PD/fnirs/by_task/dt_simple-bids/participants.tsv'...\n",
      "Writing '/Volumes/dep/Allied Health Professions/NIB Team/Project Folders/DT and PD/fnirs/by_task/dt_simple-bids/participants.json'...\n",
      "The provided raw data contains annotations, but you did not pass an \"event_id\" mapping from annotation descriptions to event codes. We will generate arbitrary event codes. To specify custom event codes, please pass \"event_id\".\n",
      "Used Annotations descriptions: ['8', 'Auto', 'DDK', 'Immediate Recall', 'Instructions', 'OT', 'ST Walk', 'Spontaneous']\n",
      "Writing '/Volumes/dep/Allied Health Professions/NIB Team/Project Folders/DT and PD/fnirs/by_task/dt_simple-bids/sub-pd035/nirs/sub-pd035_task-SimpleDT_events.tsv'...\n",
      "Writing '/Volumes/dep/Allied Health Professions/NIB Team/Project Folders/DT and PD/fnirs/by_task/dt_simple-bids/sub-pd035/nirs/sub-pd035_task-SimpleDT_events.json'...\n",
      "Writing '/Volumes/dep/Allied Health Professions/NIB Team/Project Folders/DT and PD/fnirs/by_task/dt_simple-bids/dataset_description.json'...\n",
      "Writing '/Volumes/dep/Allied Health Professions/NIB Team/Project Folders/DT and PD/fnirs/by_task/dt_simple-bids/sub-pd035/nirs/sub-pd035_task-SimpleDT_nirs.json'...\n",
      "Writing '/Volumes/dep/Allied Health Professions/NIB Team/Project Folders/DT and PD/fnirs/by_task/dt_simple-bids/sub-pd035/nirs/sub-pd035_task-SimpleDT_channels.tsv'...\n",
      "Copying data files to sub-pd035_task-SimpleDT_nirs.snirf\n",
      "Writing '/Volumes/dep/Allied Health Professions/NIB Team/Project Folders/DT and PD/fnirs/by_task/dt_simple-bids/sub-pd035/sub-pd035_scans.tsv'...\n",
      "Wrote /Volumes/dep/Allied Health Professions/NIB Team/Project Folders/DT and PD/fnirs/by_task/dt_simple-bids/sub-pd035/sub-pd035_scans.tsv entry with nirs/sub-pd035_task-SimpleDT_nirs.snirf.\n",
      "Finished processing pd035\n",
      "Processing subject: pd036\n",
      "Loading /Volumes/dep/Allied Health Professions/NIB Team/Project Folders/DT and PD/fnirs/by_task/dt_simple/pd036/2023-12-19_006.snirf\n"
     ]
    },
    {
     "name": "stderr",
     "output_type": "stream",
     "text": [
      "/var/folders/jj/m5hzfl052j3_qxn15v5jc69w0000gp/T/ipykernel_56251/2663933189.py:28: RuntimeWarning: Coordinate frame could not be inferred from the raw object and the BIDSPath.space was none, skipping the writing of channel positions\n",
      "  write_raw_bids(raw, bids_path, overwrite=True)\n"
     ]
    },
    {
     "name": "stdout",
     "output_type": "stream",
     "text": [
      "Loading /Volumes/dep/Allied Health Professions/NIB Team/Project Folders/DT and PD/fnirs/by_task/dt_simple/pd036/2023-12-19_006.snirf\n",
      "Writing '/Volumes/dep/Allied Health Professions/NIB Team/Project Folders/DT and PD/fnirs/by_task/dt_simple-bids/participants.tsv'...\n",
      "Writing '/Volumes/dep/Allied Health Professions/NIB Team/Project Folders/DT and PD/fnirs/by_task/dt_simple-bids/participants.json'...\n",
      "The provided raw data contains annotations, but you did not pass an \"event_id\" mapping from annotation descriptions to event codes. We will generate arbitrary event codes. To specify custom event codes, please pass \"event_id\".\n",
      "Used Annotations descriptions: ['8', 'Auto', 'DDK', 'Immediate Recall', 'Instructions', 'OT', 'ST Walk', 'Spontaneous']\n",
      "Writing '/Volumes/dep/Allied Health Professions/NIB Team/Project Folders/DT and PD/fnirs/by_task/dt_simple-bids/sub-pd036/nirs/sub-pd036_task-SimpleDT_events.tsv'...\n",
      "Writing '/Volumes/dep/Allied Health Professions/NIB Team/Project Folders/DT and PD/fnirs/by_task/dt_simple-bids/sub-pd036/nirs/sub-pd036_task-SimpleDT_events.json'...\n",
      "Writing '/Volumes/dep/Allied Health Professions/NIB Team/Project Folders/DT and PD/fnirs/by_task/dt_simple-bids/dataset_description.json'...\n",
      "Writing '/Volumes/dep/Allied Health Professions/NIB Team/Project Folders/DT and PD/fnirs/by_task/dt_simple-bids/sub-pd036/nirs/sub-pd036_task-SimpleDT_nirs.json'...\n",
      "Writing '/Volumes/dep/Allied Health Professions/NIB Team/Project Folders/DT and PD/fnirs/by_task/dt_simple-bids/sub-pd036/nirs/sub-pd036_task-SimpleDT_channels.tsv'...\n",
      "Copying data files to sub-pd036_task-SimpleDT_nirs.snirf\n",
      "Writing '/Volumes/dep/Allied Health Professions/NIB Team/Project Folders/DT and PD/fnirs/by_task/dt_simple-bids/sub-pd036/sub-pd036_scans.tsv'...\n",
      "Wrote /Volumes/dep/Allied Health Professions/NIB Team/Project Folders/DT and PD/fnirs/by_task/dt_simple-bids/sub-pd036/sub-pd036_scans.tsv entry with nirs/sub-pd036_task-SimpleDT_nirs.snirf.\n",
      "Finished processing pd036\n",
      "Processing subject: pd037\n",
      "Loading /Volumes/dep/Allied Health Professions/NIB Team/Project Folders/DT and PD/fnirs/by_task/dt_simple/pd037/2023-12-05_020.snirf\n"
     ]
    },
    {
     "name": "stderr",
     "output_type": "stream",
     "text": [
      "/var/folders/jj/m5hzfl052j3_qxn15v5jc69w0000gp/T/ipykernel_56251/2663933189.py:28: RuntimeWarning: Coordinate frame could not be inferred from the raw object and the BIDSPath.space was none, skipping the writing of channel positions\n",
      "  write_raw_bids(raw, bids_path, overwrite=True)\n"
     ]
    },
    {
     "name": "stdout",
     "output_type": "stream",
     "text": [
      "Loading /Volumes/dep/Allied Health Professions/NIB Team/Project Folders/DT and PD/fnirs/by_task/dt_simple/pd037/2023-12-05_020.snirf\n",
      "Writing '/Volumes/dep/Allied Health Professions/NIB Team/Project Folders/DT and PD/fnirs/by_task/dt_simple-bids/participants.tsv'...\n",
      "Writing '/Volumes/dep/Allied Health Professions/NIB Team/Project Folders/DT and PD/fnirs/by_task/dt_simple-bids/participants.json'...\n",
      "The provided raw data contains annotations, but you did not pass an \"event_id\" mapping from annotation descriptions to event codes. We will generate arbitrary event codes. To specify custom event codes, please pass \"event_id\".\n",
      "Used Annotations descriptions: ['Auto', 'DDK', 'Immediate Recall', 'Instructions', 'OT', 'ST Walk', 'Spontaneous']\n",
      "Writing '/Volumes/dep/Allied Health Professions/NIB Team/Project Folders/DT and PD/fnirs/by_task/dt_simple-bids/sub-pd037/nirs/sub-pd037_task-SimpleDT_events.tsv'...\n",
      "Writing '/Volumes/dep/Allied Health Professions/NIB Team/Project Folders/DT and PD/fnirs/by_task/dt_simple-bids/sub-pd037/nirs/sub-pd037_task-SimpleDT_events.json'...\n",
      "Writing '/Volumes/dep/Allied Health Professions/NIB Team/Project Folders/DT and PD/fnirs/by_task/dt_simple-bids/dataset_description.json'...\n",
      "Writing '/Volumes/dep/Allied Health Professions/NIB Team/Project Folders/DT and PD/fnirs/by_task/dt_simple-bids/sub-pd037/nirs/sub-pd037_task-SimpleDT_nirs.json'...\n",
      "Writing '/Volumes/dep/Allied Health Professions/NIB Team/Project Folders/DT and PD/fnirs/by_task/dt_simple-bids/sub-pd037/nirs/sub-pd037_task-SimpleDT_channels.tsv'...\n",
      "Copying data files to sub-pd037_task-SimpleDT_nirs.snirf\n",
      "Writing '/Volumes/dep/Allied Health Professions/NIB Team/Project Folders/DT and PD/fnirs/by_task/dt_simple-bids/sub-pd037/sub-pd037_scans.tsv'...\n",
      "Wrote /Volumes/dep/Allied Health Professions/NIB Team/Project Folders/DT and PD/fnirs/by_task/dt_simple-bids/sub-pd037/sub-pd037_scans.tsv entry with nirs/sub-pd037_task-SimpleDT_nirs.snirf.\n",
      "Finished processing pd037\n",
      "Processing subject: pd038\n",
      "Loading /Volumes/dep/Allied Health Professions/NIB Team/Project Folders/DT and PD/fnirs/by_task/dt_simple/pd038/2024-01-30_006.snirf\n"
     ]
    },
    {
     "name": "stderr",
     "output_type": "stream",
     "text": [
      "/var/folders/jj/m5hzfl052j3_qxn15v5jc69w0000gp/T/ipykernel_56251/2663933189.py:28: RuntimeWarning: Coordinate frame could not be inferred from the raw object and the BIDSPath.space was none, skipping the writing of channel positions\n",
      "  write_raw_bids(raw, bids_path, overwrite=True)\n"
     ]
    },
    {
     "name": "stdout",
     "output_type": "stream",
     "text": [
      "Loading /Volumes/dep/Allied Health Professions/NIB Team/Project Folders/DT and PD/fnirs/by_task/dt_simple/pd038/2024-01-30_006.snirf\n",
      "Writing '/Volumes/dep/Allied Health Professions/NIB Team/Project Folders/DT and PD/fnirs/by_task/dt_simple-bids/participants.tsv'...\n",
      "Writing '/Volumes/dep/Allied Health Professions/NIB Team/Project Folders/DT and PD/fnirs/by_task/dt_simple-bids/participants.json'...\n",
      "The provided raw data contains annotations, but you did not pass an \"event_id\" mapping from annotation descriptions to event codes. We will generate arbitrary event codes. To specify custom event codes, please pass \"event_id\".\n",
      "Used Annotations descriptions: ['8', 'Auto', 'DDK', 'Immediate Recall', 'Instructions', 'OT', 'ST Walk', 'Spontaneous']\n",
      "Writing '/Volumes/dep/Allied Health Professions/NIB Team/Project Folders/DT and PD/fnirs/by_task/dt_simple-bids/sub-pd038/nirs/sub-pd038_task-SimpleDT_events.tsv'...\n",
      "Writing '/Volumes/dep/Allied Health Professions/NIB Team/Project Folders/DT and PD/fnirs/by_task/dt_simple-bids/sub-pd038/nirs/sub-pd038_task-SimpleDT_events.json'...\n",
      "Writing '/Volumes/dep/Allied Health Professions/NIB Team/Project Folders/DT and PD/fnirs/by_task/dt_simple-bids/dataset_description.json'...\n",
      "Writing '/Volumes/dep/Allied Health Professions/NIB Team/Project Folders/DT and PD/fnirs/by_task/dt_simple-bids/sub-pd038/nirs/sub-pd038_task-SimpleDT_nirs.json'...\n",
      "Writing '/Volumes/dep/Allied Health Professions/NIB Team/Project Folders/DT and PD/fnirs/by_task/dt_simple-bids/sub-pd038/nirs/sub-pd038_task-SimpleDT_channels.tsv'...\n",
      "Copying data files to sub-pd038_task-SimpleDT_nirs.snirf\n"
     ]
    },
    {
     "name": "stderr",
     "output_type": "stream",
     "text": [
      "/var/folders/jj/m5hzfl052j3_qxn15v5jc69w0000gp/T/ipykernel_56251/2663933189.py:28: RuntimeWarning: Coordinate frame could not be inferred from the raw object and the BIDSPath.space was none, skipping the writing of channel positions\n",
      "  write_raw_bids(raw, bids_path, overwrite=True)\n"
     ]
    },
    {
     "name": "stdout",
     "output_type": "stream",
     "text": [
      "Writing '/Volumes/dep/Allied Health Professions/NIB Team/Project Folders/DT and PD/fnirs/by_task/dt_simple-bids/sub-pd038/sub-pd038_scans.tsv'...\n",
      "Wrote /Volumes/dep/Allied Health Professions/NIB Team/Project Folders/DT and PD/fnirs/by_task/dt_simple-bids/sub-pd038/sub-pd038_scans.tsv entry with nirs/sub-pd038_task-SimpleDT_nirs.snirf.\n",
      "Finished processing pd038\n",
      "Processing subject: pd039\n",
      "Loading /Volumes/dep/Allied Health Professions/NIB Team/Project Folders/DT and PD/fnirs/by_task/dt_simple/pd039/2024-01-11_006.snirf\n",
      "Loading /Volumes/dep/Allied Health Professions/NIB Team/Project Folders/DT and PD/fnirs/by_task/dt_simple/pd039/2024-01-11_006.snirf\n",
      "Writing '/Volumes/dep/Allied Health Professions/NIB Team/Project Folders/DT and PD/fnirs/by_task/dt_simple-bids/participants.tsv'...\n",
      "Writing '/Volumes/dep/Allied Health Professions/NIB Team/Project Folders/DT and PD/fnirs/by_task/dt_simple-bids/participants.json'...\n",
      "The provided raw data contains annotations, but you did not pass an \"event_id\" mapping from annotation descriptions to event codes. We will generate arbitrary event codes. To specify custom event codes, please pass \"event_id\".\n",
      "Used Annotations descriptions: ['8', 'Auto', 'DDK', 'Immediate Recall', 'Instructions', 'OT', 'ST Walk', 'Spontaneous']\n",
      "Writing '/Volumes/dep/Allied Health Professions/NIB Team/Project Folders/DT and PD/fnirs/by_task/dt_simple-bids/sub-pd039/nirs/sub-pd039_task-SimpleDT_events.tsv'...\n",
      "Writing '/Volumes/dep/Allied Health Professions/NIB Team/Project Folders/DT and PD/fnirs/by_task/dt_simple-bids/sub-pd039/nirs/sub-pd039_task-SimpleDT_events.json'...\n",
      "Writing '/Volumes/dep/Allied Health Professions/NIB Team/Project Folders/DT and PD/fnirs/by_task/dt_simple-bids/dataset_description.json'...\n",
      "Writing '/Volumes/dep/Allied Health Professions/NIB Team/Project Folders/DT and PD/fnirs/by_task/dt_simple-bids/sub-pd039/nirs/sub-pd039_task-SimpleDT_nirs.json'...\n",
      "Writing '/Volumes/dep/Allied Health Professions/NIB Team/Project Folders/DT and PD/fnirs/by_task/dt_simple-bids/sub-pd039/nirs/sub-pd039_task-SimpleDT_channels.tsv'...\n",
      "Copying data files to sub-pd039_task-SimpleDT_nirs.snirf\n",
      "Writing '/Volumes/dep/Allied Health Professions/NIB Team/Project Folders/DT and PD/fnirs/by_task/dt_simple-bids/sub-pd039/sub-pd039_scans.tsv'...\n",
      "Wrote /Volumes/dep/Allied Health Professions/NIB Team/Project Folders/DT and PD/fnirs/by_task/dt_simple-bids/sub-pd039/sub-pd039_scans.tsv entry with nirs/sub-pd039_task-SimpleDT_nirs.snirf.\n",
      "Finished processing pd039\n",
      "Processing subject: pd040\n",
      "Loading /Volumes/dep/Allied Health Professions/NIB Team/Project Folders/DT and PD/fnirs/by_task/dt_simple/pd040/2024-03-05_006.snirf\n"
     ]
    },
    {
     "name": "stderr",
     "output_type": "stream",
     "text": [
      "/var/folders/jj/m5hzfl052j3_qxn15v5jc69w0000gp/T/ipykernel_56251/2663933189.py:28: RuntimeWarning: Coordinate frame could not be inferred from the raw object and the BIDSPath.space was none, skipping the writing of channel positions\n",
      "  write_raw_bids(raw, bids_path, overwrite=True)\n"
     ]
    },
    {
     "name": "stdout",
     "output_type": "stream",
     "text": [
      "Loading /Volumes/dep/Allied Health Professions/NIB Team/Project Folders/DT and PD/fnirs/by_task/dt_simple/pd040/2024-03-05_006.snirf\n",
      "Writing '/Volumes/dep/Allied Health Professions/NIB Team/Project Folders/DT and PD/fnirs/by_task/dt_simple-bids/participants.tsv'...\n",
      "Writing '/Volumes/dep/Allied Health Professions/NIB Team/Project Folders/DT and PD/fnirs/by_task/dt_simple-bids/participants.json'...\n",
      "The provided raw data contains annotations, but you did not pass an \"event_id\" mapping from annotation descriptions to event codes. We will generate arbitrary event codes. To specify custom event codes, please pass \"event_id\".\n",
      "Used Annotations descriptions: ['8', 'Auto', 'DDK', 'Immediate Recall', 'Instructions', 'OT', 'ST Walk', 'Spontaneous']\n",
      "Writing '/Volumes/dep/Allied Health Professions/NIB Team/Project Folders/DT and PD/fnirs/by_task/dt_simple-bids/sub-pd040/nirs/sub-pd040_task-SimpleDT_events.tsv'...\n",
      "Writing '/Volumes/dep/Allied Health Professions/NIB Team/Project Folders/DT and PD/fnirs/by_task/dt_simple-bids/sub-pd040/nirs/sub-pd040_task-SimpleDT_events.json'...\n",
      "Writing '/Volumes/dep/Allied Health Professions/NIB Team/Project Folders/DT and PD/fnirs/by_task/dt_simple-bids/dataset_description.json'...\n",
      "Writing '/Volumes/dep/Allied Health Professions/NIB Team/Project Folders/DT and PD/fnirs/by_task/dt_simple-bids/sub-pd040/nirs/sub-pd040_task-SimpleDT_nirs.json'...\n",
      "Writing '/Volumes/dep/Allied Health Professions/NIB Team/Project Folders/DT and PD/fnirs/by_task/dt_simple-bids/sub-pd040/nirs/sub-pd040_task-SimpleDT_channels.tsv'...\n",
      "Copying data files to sub-pd040_task-SimpleDT_nirs.snirf\n",
      "Writing '/Volumes/dep/Allied Health Professions/NIB Team/Project Folders/DT and PD/fnirs/by_task/dt_simple-bids/sub-pd040/sub-pd040_scans.tsv'...\n",
      "Wrote /Volumes/dep/Allied Health Professions/NIB Team/Project Folders/DT and PD/fnirs/by_task/dt_simple-bids/sub-pd040/sub-pd040_scans.tsv entry with nirs/sub-pd040_task-SimpleDT_nirs.snirf.\n",
      "Finished processing pd040\n",
      "Processing subject: pd041\n",
      "Loading /Volumes/dep/Allied Health Professions/NIB Team/Project Folders/DT and PD/fnirs/by_task/dt_simple/pd041/2024-02-06_008.snirf\n"
     ]
    },
    {
     "name": "stderr",
     "output_type": "stream",
     "text": [
      "/var/folders/jj/m5hzfl052j3_qxn15v5jc69w0000gp/T/ipykernel_56251/2663933189.py:28: RuntimeWarning: Coordinate frame could not be inferred from the raw object and the BIDSPath.space was none, skipping the writing of channel positions\n",
      "  write_raw_bids(raw, bids_path, overwrite=True)\n"
     ]
    },
    {
     "name": "stdout",
     "output_type": "stream",
     "text": [
      "Loading /Volumes/dep/Allied Health Professions/NIB Team/Project Folders/DT and PD/fnirs/by_task/dt_simple/pd041/2024-02-06_008.snirf\n",
      "Writing '/Volumes/dep/Allied Health Professions/NIB Team/Project Folders/DT and PD/fnirs/by_task/dt_simple-bids/participants.tsv'...\n",
      "Writing '/Volumes/dep/Allied Health Professions/NIB Team/Project Folders/DT and PD/fnirs/by_task/dt_simple-bids/participants.json'...\n",
      "The provided raw data contains annotations, but you did not pass an \"event_id\" mapping from annotation descriptions to event codes. We will generate arbitrary event codes. To specify custom event codes, please pass \"event_id\".\n",
      "Used Annotations descriptions: ['8', 'Auto', 'DDK', 'Immediate Recall', 'Instructions', 'OT', 'ST Walk', 'Spontaneous']\n",
      "Writing '/Volumes/dep/Allied Health Professions/NIB Team/Project Folders/DT and PD/fnirs/by_task/dt_simple-bids/sub-pd041/nirs/sub-pd041_task-SimpleDT_events.tsv'...\n",
      "Writing '/Volumes/dep/Allied Health Professions/NIB Team/Project Folders/DT and PD/fnirs/by_task/dt_simple-bids/sub-pd041/nirs/sub-pd041_task-SimpleDT_events.json'...\n",
      "Writing '/Volumes/dep/Allied Health Professions/NIB Team/Project Folders/DT and PD/fnirs/by_task/dt_simple-bids/dataset_description.json'...\n",
      "Writing '/Volumes/dep/Allied Health Professions/NIB Team/Project Folders/DT and PD/fnirs/by_task/dt_simple-bids/sub-pd041/nirs/sub-pd041_task-SimpleDT_nirs.json'...\n",
      "Writing '/Volumes/dep/Allied Health Professions/NIB Team/Project Folders/DT and PD/fnirs/by_task/dt_simple-bids/sub-pd041/nirs/sub-pd041_task-SimpleDT_channels.tsv'...\n",
      "Copying data files to sub-pd041_task-SimpleDT_nirs.snirf\n",
      "Writing '/Volumes/dep/Allied Health Professions/NIB Team/Project Folders/DT and PD/fnirs/by_task/dt_simple-bids/sub-pd041/sub-pd041_scans.tsv'...\n",
      "Wrote /Volumes/dep/Allied Health Professions/NIB Team/Project Folders/DT and PD/fnirs/by_task/dt_simple-bids/sub-pd041/sub-pd041_scans.tsv entry with nirs/sub-pd041_task-SimpleDT_nirs.snirf.\n"
     ]
    },
    {
     "name": "stderr",
     "output_type": "stream",
     "text": [
      "/var/folders/jj/m5hzfl052j3_qxn15v5jc69w0000gp/T/ipykernel_56251/2663933189.py:28: RuntimeWarning: Coordinate frame could not be inferred from the raw object and the BIDSPath.space was none, skipping the writing of channel positions\n",
      "  write_raw_bids(raw, bids_path, overwrite=True)\n"
     ]
    },
    {
     "name": "stdout",
     "output_type": "stream",
     "text": [
      "Finished processing pd041\n",
      "Processing subject: pd046\n",
      "Loading /Volumes/dep/Allied Health Professions/NIB Team/Project Folders/DT and PD/fnirs/by_task/dt_simple/pd046/2024-04-30_007.snirf\n",
      "Loading /Volumes/dep/Allied Health Professions/NIB Team/Project Folders/DT and PD/fnirs/by_task/dt_simple/pd046/2024-04-30_007.snirf\n",
      "Writing '/Volumes/dep/Allied Health Professions/NIB Team/Project Folders/DT and PD/fnirs/by_task/dt_simple-bids/participants.tsv'...\n",
      "Writing '/Volumes/dep/Allied Health Professions/NIB Team/Project Folders/DT and PD/fnirs/by_task/dt_simple-bids/participants.json'...\n",
      "The provided raw data contains annotations, but you did not pass an \"event_id\" mapping from annotation descriptions to event codes. We will generate arbitrary event codes. To specify custom event codes, please pass \"event_id\".\n",
      "Used Annotations descriptions: ['Auto', 'DDK', 'Immediate Recall', 'Instructions', 'OT', 'ST Walk', 'Spontaneous']\n",
      "Writing '/Volumes/dep/Allied Health Professions/NIB Team/Project Folders/DT and PD/fnirs/by_task/dt_simple-bids/sub-pd046/nirs/sub-pd046_task-SimpleDT_events.tsv'...\n",
      "Writing '/Volumes/dep/Allied Health Professions/NIB Team/Project Folders/DT and PD/fnirs/by_task/dt_simple-bids/sub-pd046/nirs/sub-pd046_task-SimpleDT_events.json'...\n",
      "Writing '/Volumes/dep/Allied Health Professions/NIB Team/Project Folders/DT and PD/fnirs/by_task/dt_simple-bids/dataset_description.json'...\n",
      "Writing '/Volumes/dep/Allied Health Professions/NIB Team/Project Folders/DT and PD/fnirs/by_task/dt_simple-bids/sub-pd046/nirs/sub-pd046_task-SimpleDT_nirs.json'...\n",
      "Writing '/Volumes/dep/Allied Health Professions/NIB Team/Project Folders/DT and PD/fnirs/by_task/dt_simple-bids/sub-pd046/nirs/sub-pd046_task-SimpleDT_channels.tsv'...\n",
      "Copying data files to sub-pd046_task-SimpleDT_nirs.snirf\n",
      "Writing '/Volumes/dep/Allied Health Professions/NIB Team/Project Folders/DT and PD/fnirs/by_task/dt_simple-bids/sub-pd046/sub-pd046_scans.tsv'...\n",
      "Wrote /Volumes/dep/Allied Health Professions/NIB Team/Project Folders/DT and PD/fnirs/by_task/dt_simple-bids/sub-pd046/sub-pd046_scans.tsv entry with nirs/sub-pd046_task-SimpleDT_nirs.snirf.\n",
      "Finished processing pd046\n"
     ]
    },
    {
     "name": "stderr",
     "output_type": "stream",
     "text": [
      "/var/folders/jj/m5hzfl052j3_qxn15v5jc69w0000gp/T/ipykernel_56251/2663933189.py:28: RuntimeWarning: Coordinate frame could not be inferred from the raw object and the BIDSPath.space was none, skipping the writing of channel positions\n",
      "  write_raw_bids(raw, bids_path, overwrite=True)\n"
     ]
    }
   ],
   "source": [
    "for subject_dir in subjects:\n",
    "    subject_dir = pathlib.Path(subject_dir)  # Ensure subject_dir is a pathlib.Path object\n",
    "    subject_id = subject_dir.name  # Extract subject ID from the folder name\n",
    "    print(f\"Processing subject: {subject_id}\")\n",
    "    \n",
    "    # Find the corresponding .snirf file for the subject using glob\n",
    "    snirf_files = glob.glob(str(subject_dir / \"*.snirf\"))\n",
    "    \n",
    "    if not snirf_files:\n",
    "        print(f\"Warning: No .snirf file found in {subject_dir}. Skipping.\")\n",
    "        continue\n",
    "    \n",
    "    # Use the first .snirf file found\n",
    "    snirf_file = snirf_files[0]\n",
    "    \n",
    "    # Load the fNIRS data\n",
    "    raw = mne.io.read_raw_snirf(str(snirf_file), preload=False)\n",
    "    raw.info[\"line_freq\"] = 50  # Specify the power line frequency\n",
    "    \n",
    "    # Rename annotations (i.e., triggers) based on provided trigger_info\n",
    "    raw.annotations.rename(trigger_info)\n",
    "    raw.annotations.set_durations(20.0)  # Set duration for each event to 20 seconds\n",
    "    \n",
    "    # Specify BIDS path for the subject\n",
    "    bids_path = BIDSPath(subject=subject_id, task=task, root=bids_root)\n",
    "    \n",
    "    # Write the raw data in BIDS format\n",
    "    write_raw_bids(raw, bids_path, overwrite=True)\n",
    "    \n",
    "    print(f\"Finished processing {subject_id}\")"
   ]
  },
  {
   "cell_type": "markdown",
   "metadata": {},
   "source": [
    "Check the structure of the created BIDS directory"
   ]
  },
  {
   "cell_type": "code",
   "execution_count": 17,
   "metadata": {},
   "outputs": [
    {
     "name": "stdout",
     "output_type": "stream",
     "text": [
      "|dt_simple-bids/\n",
      "|--- README\n",
      "|--- dataset_description.json\n",
      "|--- participants.json\n",
      "|--- participants.tsv\n",
      "|--- sub-pd005/\n",
      "|------ sub-pd005_scans.tsv\n",
      "|------ nirs/\n",
      "|--------- sub-pd005_task-SimpleDT_channels.tsv\n",
      "|--------- sub-pd005_task-SimpleDT_events.json\n",
      "|--------- sub-pd005_task-SimpleDT_events.tsv\n",
      "|--------- sub-pd005_task-SimpleDT_nirs.json\n",
      "|--------- sub-pd005_task-SimpleDT_nirs.snirf\n",
      "|--- sub-pd006/\n",
      "|------ sub-pd006_scans.tsv\n",
      "|------ nirs/\n",
      "|--------- sub-pd006_task-SimpleDT_channels.tsv\n",
      "|--------- sub-pd006_task-SimpleDT_events.json\n",
      "|--------- sub-pd006_task-SimpleDT_events.tsv\n",
      "|--------- sub-pd006_task-SimpleDT_nirs.json\n",
      "|--------- sub-pd006_task-SimpleDT_nirs.snirf\n",
      "|--- sub-pd007/\n",
      "|------ sub-pd007_scans.tsv\n",
      "|------ nirs/\n",
      "|--------- sub-pd007_task-SimpleDT_channels.tsv\n",
      "|--------- sub-pd007_task-SimpleDT_events.json\n",
      "|--------- sub-pd007_task-SimpleDT_events.tsv\n",
      "|--------- sub-pd007_task-SimpleDT_nirs.json\n",
      "|--------- sub-pd007_task-SimpleDT_nirs.snirf\n",
      "|--- sub-pd009/\n",
      "|------ sub-pd009_scans.tsv\n",
      "|------ nirs/\n",
      "|--------- sub-pd009_task-SimpleDT_channels.tsv\n",
      "|--------- sub-pd009_task-SimpleDT_events.json\n",
      "|--------- sub-pd009_task-SimpleDT_events.tsv\n",
      "|--------- sub-pd009_task-SimpleDT_nirs.json\n",
      "|--------- sub-pd009_task-SimpleDT_nirs.snirf\n",
      "|--- sub-pd011/\n",
      "|------ sub-pd011_scans.tsv\n",
      "|------ nirs/\n",
      "|--------- sub-pd011_task-SimpleDT_channels.tsv\n",
      "|--------- sub-pd011_task-SimpleDT_events.json\n",
      "|--------- sub-pd011_task-SimpleDT_events.tsv\n",
      "|--------- sub-pd011_task-SimpleDT_nirs.json\n",
      "|--------- sub-pd011_task-SimpleDT_nirs.snirf\n",
      "|--- sub-pd013/\n",
      "|------ sub-pd013_scans.tsv\n",
      "|------ nirs/\n",
      "|--------- sub-pd013_task-SimpleDT_channels.tsv\n",
      "|--------- sub-pd013_task-SimpleDT_events.json\n",
      "|--------- sub-pd013_task-SimpleDT_events.tsv\n",
      "|--------- sub-pd013_task-SimpleDT_nirs.json\n",
      "|--------- sub-pd013_task-SimpleDT_nirs.snirf\n",
      "|--- sub-pd014/\n",
      "|------ sub-pd014_scans.tsv\n",
      "|------ nirs/\n",
      "|--------- sub-pd014_task-SimpleDT_channels.tsv\n",
      "|--------- sub-pd014_task-SimpleDT_events.json\n",
      "|--------- sub-pd014_task-SimpleDT_events.tsv\n",
      "|--------- sub-pd014_task-SimpleDT_nirs.json\n",
      "|--------- sub-pd014_task-SimpleDT_nirs.snirf\n",
      "|--- sub-pd015/\n",
      "|------ sub-pd015_scans.tsv\n",
      "|------ nirs/\n",
      "|--------- sub-pd015_task-SimpleDT_channels.tsv\n",
      "|--------- sub-pd015_task-SimpleDT_events.json\n",
      "|--------- sub-pd015_task-SimpleDT_events.tsv\n",
      "|--------- sub-pd015_task-SimpleDT_nirs.json\n",
      "|--------- sub-pd015_task-SimpleDT_nirs.snirf\n",
      "|--- sub-pd016/\n",
      "|------ sub-pd016_scans.tsv\n",
      "|------ nirs/\n",
      "|--------- sub-pd016_task-SimpleDT_channels.tsv\n",
      "|--------- sub-pd016_task-SimpleDT_events.json\n",
      "|--------- sub-pd016_task-SimpleDT_events.tsv\n",
      "|--------- sub-pd016_task-SimpleDT_nirs.json\n",
      "|--------- sub-pd016_task-SimpleDT_nirs.snirf\n",
      "|--- sub-pd017/\n",
      "|------ sub-pd017_scans.tsv\n",
      "|------ nirs/\n",
      "|--------- sub-pd017_task-SimpleDT_channels.tsv\n",
      "|--------- sub-pd017_task-SimpleDT_events.json\n",
      "|--------- sub-pd017_task-SimpleDT_events.tsv\n",
      "|--------- sub-pd017_task-SimpleDT_nirs.json\n",
      "|--------- sub-pd017_task-SimpleDT_nirs.snirf\n",
      "|--- sub-pd018/\n",
      "|------ sub-pd018_scans.tsv\n",
      "|------ nirs/\n",
      "|--------- sub-pd018_task-SimpleDT_channels.tsv\n",
      "|--------- sub-pd018_task-SimpleDT_events.json\n",
      "|--------- sub-pd018_task-SimpleDT_events.tsv\n",
      "|--------- sub-pd018_task-SimpleDT_nirs.json\n",
      "|--------- sub-pd018_task-SimpleDT_nirs.snirf\n",
      "|--- sub-pd019/\n",
      "|------ sub-pd019_scans.tsv\n",
      "|------ nirs/\n",
      "|--------- sub-pd019_task-SimpleDT_channels.tsv\n",
      "|--------- sub-pd019_task-SimpleDT_events.json\n",
      "|--------- sub-pd019_task-SimpleDT_events.tsv\n",
      "|--------- sub-pd019_task-SimpleDT_nirs.json\n",
      "|--------- sub-pd019_task-SimpleDT_nirs.snirf\n",
      "|--- sub-pd020/\n",
      "|------ sub-pd020_scans.tsv\n",
      "|------ nirs/\n",
      "|--------- sub-pd020_task-SimpleDT_channels.tsv\n",
      "|--------- sub-pd020_task-SimpleDT_events.json\n",
      "|--------- sub-pd020_task-SimpleDT_events.tsv\n",
      "|--------- sub-pd020_task-SimpleDT_nirs.json\n",
      "|--------- sub-pd020_task-SimpleDT_nirs.snirf\n",
      "|--- sub-pd021/\n",
      "|------ sub-pd021_scans.tsv\n",
      "|------ nirs/\n",
      "|--------- sub-pd021_task-SimpleDT_channels.tsv\n",
      "|--------- sub-pd021_task-SimpleDT_events.json\n",
      "|--------- sub-pd021_task-SimpleDT_events.tsv\n",
      "|--------- sub-pd021_task-SimpleDT_nirs.json\n",
      "|--------- sub-pd021_task-SimpleDT_nirs.snirf\n",
      "|--- sub-pd022/\n",
      "|------ sub-pd022_scans.tsv\n",
      "|------ nirs/\n",
      "|--------- sub-pd022_task-SimpleDT_channels.tsv\n",
      "|--------- sub-pd022_task-SimpleDT_events.json\n",
      "|--------- sub-pd022_task-SimpleDT_events.tsv\n",
      "|--------- sub-pd022_task-SimpleDT_nirs.json\n",
      "|--------- sub-pd022_task-SimpleDT_nirs.snirf\n",
      "|--- sub-pd023/\n",
      "|------ sub-pd023_scans.tsv\n",
      "|------ nirs/\n",
      "|--------- sub-pd023_task-SimpleDT_channels.tsv\n",
      "|--------- sub-pd023_task-SimpleDT_events.json\n",
      "|--------- sub-pd023_task-SimpleDT_events.tsv\n",
      "|--------- sub-pd023_task-SimpleDT_nirs.json\n",
      "|--------- sub-pd023_task-SimpleDT_nirs.snirf\n",
      "|--- sub-pd024/\n",
      "|------ sub-pd024_scans.tsv\n",
      "|------ nirs/\n",
      "|--------- sub-pd024_task-SimpleDT_channels.tsv\n",
      "|--------- sub-pd024_task-SimpleDT_events.json\n",
      "|--------- sub-pd024_task-SimpleDT_events.tsv\n",
      "|--------- sub-pd024_task-SimpleDT_nirs.json\n",
      "|--------- sub-pd024_task-SimpleDT_nirs.snirf\n",
      "|--- sub-pd026/\n",
      "|------ sub-pd026_scans.tsv\n",
      "|------ nirs/\n",
      "|--------- sub-pd026_task-SimpleDT_channels.tsv\n",
      "|--------- sub-pd026_task-SimpleDT_events.json\n",
      "|--------- sub-pd026_task-SimpleDT_events.tsv\n",
      "|--------- sub-pd026_task-SimpleDT_nirs.json\n",
      "|--------- sub-pd026_task-SimpleDT_nirs.snirf\n",
      "|--- sub-pd027/\n",
      "|------ sub-pd027_scans.tsv\n",
      "|------ nirs/\n",
      "|--------- sub-pd027_task-SimpleDT_channels.tsv\n",
      "|--------- sub-pd027_task-SimpleDT_events.json\n",
      "|--------- sub-pd027_task-SimpleDT_events.tsv\n",
      "|--------- sub-pd027_task-SimpleDT_nirs.json\n",
      "|--------- sub-pd027_task-SimpleDT_nirs.snirf\n",
      "|--- sub-pd028/\n",
      "|------ sub-pd028_scans.tsv\n",
      "|------ nirs/\n",
      "|--------- sub-pd028_task-SimpleDT_channels.tsv\n",
      "|--------- sub-pd028_task-SimpleDT_events.json\n",
      "|--------- sub-pd028_task-SimpleDT_events.tsv\n",
      "|--------- sub-pd028_task-SimpleDT_nirs.json\n",
      "|--------- sub-pd028_task-SimpleDT_nirs.snirf\n",
      "|--- sub-pd029/\n",
      "|------ sub-pd029_scans.tsv\n",
      "|------ nirs/\n",
      "|--------- sub-pd029_task-SimpleDT_channels.tsv\n",
      "|--------- sub-pd029_task-SimpleDT_events.json\n",
      "|--------- sub-pd029_task-SimpleDT_events.tsv\n",
      "|--------- sub-pd029_task-SimpleDT_nirs.json\n",
      "|--------- sub-pd029_task-SimpleDT_nirs.snirf\n",
      "|--- sub-pd030/\n",
      "|------ sub-pd030_scans.tsv\n",
      "|------ nirs/\n",
      "|--------- sub-pd030_task-SimpleDT_channels.tsv\n",
      "|--------- sub-pd030_task-SimpleDT_events.json\n",
      "|--------- sub-pd030_task-SimpleDT_events.tsv\n",
      "|--------- sub-pd030_task-SimpleDT_nirs.json\n",
      "|--------- sub-pd030_task-SimpleDT_nirs.snirf\n",
      "|--- sub-pd031/\n",
      "|------ sub-pd031_scans.tsv\n",
      "|------ nirs/\n",
      "|--------- sub-pd031_task-SimpleDT_channels.tsv\n",
      "|--------- sub-pd031_task-SimpleDT_events.json\n",
      "|--------- sub-pd031_task-SimpleDT_events.tsv\n",
      "|--------- sub-pd031_task-SimpleDT_nirs.json\n",
      "|--------- sub-pd031_task-SimpleDT_nirs.snirf\n",
      "|--- sub-pd032/\n",
      "|------ sub-pd032_scans.tsv\n",
      "|------ nirs/\n",
      "|--------- sub-pd032_task-SimpleDT_channels.tsv\n",
      "|--------- sub-pd032_task-SimpleDT_events.json\n",
      "|--------- sub-pd032_task-SimpleDT_events.tsv\n",
      "|--------- sub-pd032_task-SimpleDT_nirs.json\n",
      "|--------- sub-pd032_task-SimpleDT_nirs.snirf\n",
      "|--- sub-pd033/\n",
      "|------ sub-pd033_scans.tsv\n",
      "|------ nirs/\n",
      "|--------- sub-pd033_task-SimpleDT_channels.tsv\n",
      "|--------- sub-pd033_task-SimpleDT_events.json\n",
      "|--------- sub-pd033_task-SimpleDT_events.tsv\n",
      "|--------- sub-pd033_task-SimpleDT_nirs.json\n",
      "|--------- sub-pd033_task-SimpleDT_nirs.snirf\n",
      "|--- sub-pd034/\n",
      "|------ sub-pd034_scans.tsv\n",
      "|------ nirs/\n",
      "|--------- sub-pd034_task-SimpleDT_channels.tsv\n",
      "|--------- sub-pd034_task-SimpleDT_events.json\n",
      "|--------- sub-pd034_task-SimpleDT_events.tsv\n",
      "|--------- sub-pd034_task-SimpleDT_nirs.json\n",
      "|--------- sub-pd034_task-SimpleDT_nirs.snirf\n",
      "|--- sub-pd035/\n",
      "|------ sub-pd035_scans.tsv\n",
      "|------ nirs/\n",
      "|--------- sub-pd035_task-SimpleDT_channels.tsv\n",
      "|--------- sub-pd035_task-SimpleDT_events.json\n",
      "|--------- sub-pd035_task-SimpleDT_events.tsv\n",
      "|--------- sub-pd035_task-SimpleDT_nirs.json\n",
      "|--------- sub-pd035_task-SimpleDT_nirs.snirf\n",
      "|--- sub-pd036/\n",
      "|------ sub-pd036_scans.tsv\n",
      "|------ nirs/\n",
      "|--------- sub-pd036_task-SimpleDT_channels.tsv\n",
      "|--------- sub-pd036_task-SimpleDT_events.json\n",
      "|--------- sub-pd036_task-SimpleDT_events.tsv\n",
      "|--------- sub-pd036_task-SimpleDT_nirs.json\n",
      "|--------- sub-pd036_task-SimpleDT_nirs.snirf\n",
      "|--- sub-pd037/\n",
      "|------ sub-pd037_scans.tsv\n",
      "|------ nirs/\n",
      "|--------- sub-pd037_task-SimpleDT_channels.tsv\n",
      "|--------- sub-pd037_task-SimpleDT_events.json\n",
      "|--------- sub-pd037_task-SimpleDT_events.tsv\n",
      "|--------- sub-pd037_task-SimpleDT_nirs.json\n",
      "|--------- sub-pd037_task-SimpleDT_nirs.snirf\n",
      "|--- sub-pd038/\n",
      "|------ sub-pd038_scans.tsv\n",
      "|------ nirs/\n",
      "|--------- sub-pd038_task-SimpleDT_channels.tsv\n",
      "|--------- sub-pd038_task-SimpleDT_events.json\n",
      "|--------- sub-pd038_task-SimpleDT_events.tsv\n",
      "|--------- sub-pd038_task-SimpleDT_nirs.json\n",
      "|--------- sub-pd038_task-SimpleDT_nirs.snirf\n",
      "|--- sub-pd039/\n",
      "|------ sub-pd039_scans.tsv\n",
      "|------ nirs/\n",
      "|--------- sub-pd039_task-SimpleDT_channels.tsv\n",
      "|--------- sub-pd039_task-SimpleDT_events.json\n",
      "|--------- sub-pd039_task-SimpleDT_events.tsv\n",
      "|--------- sub-pd039_task-SimpleDT_nirs.json\n",
      "|--------- sub-pd039_task-SimpleDT_nirs.snirf\n",
      "|--- sub-pd040/\n",
      "|------ sub-pd040_scans.tsv\n",
      "|------ nirs/\n",
      "|--------- sub-pd040_task-SimpleDT_channels.tsv\n",
      "|--------- sub-pd040_task-SimpleDT_events.json\n",
      "|--------- sub-pd040_task-SimpleDT_events.tsv\n",
      "|--------- sub-pd040_task-SimpleDT_nirs.json\n",
      "|--------- sub-pd040_task-SimpleDT_nirs.snirf\n",
      "|--- sub-pd041/\n",
      "|------ sub-pd041_scans.tsv\n",
      "|------ nirs/\n",
      "|--------- sub-pd041_task-SimpleDT_channels.tsv\n",
      "|--------- sub-pd041_task-SimpleDT_events.json\n",
      "|--------- sub-pd041_task-SimpleDT_events.tsv\n",
      "|--------- sub-pd041_task-SimpleDT_nirs.json\n",
      "|--------- sub-pd041_task-SimpleDT_nirs.snirf\n",
      "|--- sub-pd046/\n",
      "|------ sub-pd046_scans.tsv\n",
      "|------ nirs/\n",
      "|--------- sub-pd046_task-SimpleDT_channels.tsv\n",
      "|--------- sub-pd046_task-SimpleDT_events.json\n",
      "|--------- sub-pd046_task-SimpleDT_events.tsv\n",
      "|--------- sub-pd046_task-SimpleDT_nirs.json\n",
      "|--------- sub-pd046_task-SimpleDT_nirs.snirf\n"
     ]
    }
   ],
   "source": [
    "print_dir_tree(bids_root)"
   ]
  },
  {
   "cell_type": "markdown",
   "metadata": {},
   "source": [
    "Count events in the BIDS dataset (useful for quality control)"
   ]
  },
  {
   "cell_type": "code",
   "execution_count": 18,
   "metadata": {},
   "outputs": [
    {
     "name": "stdout",
     "output_type": "stream",
     "text": [
      "Event counts:            SimpleDT                                                    \\\n",
      "trial_type        8 Auto DDK Immediate Recall Instructions OT ST Walk   \n",
      "subject                                                                 \n",
      "pd005             1    3   3                1           15  3       3   \n",
      "pd006             1    3   3                1           15  3       3   \n",
      "pd007             1    3   3                1           15  3       3   \n",
      "pd009          <NA>    1   1                1            7  2       2   \n",
      "pd011             1    3   3                1           15  3       3   \n",
      "pd013             1    3   3                1           15  3       3   \n",
      "pd014             1    3   3                1           15  3       3   \n",
      "pd015             1    3   3                1           15  3       3   \n",
      "pd016             1    3   3                1           15  3       3   \n",
      "pd017             1    3   3                1           15  3       3   \n",
      "pd018          <NA>    2   2                1           10  2       3   \n",
      "pd019             1    3   3                1           15  3       3   \n",
      "pd020             1    3   3                1           15  3       3   \n",
      "pd021             1    3   3                1           15  3       3   \n",
      "pd022          <NA>    1   1                1            6  1       2   \n",
      "pd023             1    3   3                1           15  3       3   \n",
      "pd024             1    3   3                1           15  3       3   \n",
      "pd026             1    3   3                1           15  3       3   \n",
      "pd027             1    3   3                1           15  3       3   \n",
      "pd028             1    3   3                1           15  3       3   \n",
      "pd029             1    3   3                1           15  3       3   \n",
      "pd030             1    3   3                1           15  3       3   \n",
      "pd031             1    3   3                1           15  3       3   \n",
      "pd032             1    3   3                1           15  3       3   \n",
      "pd033             1    3   3                1           15  3       3   \n",
      "pd034             1    3   3                1           15  3       3   \n",
      "pd035             1    3   3                1           15  3       3   \n",
      "pd036             1    3   3                1           15  3       3   \n",
      "pd037          <NA>    2   2                1           10  2       3   \n",
      "pd038             1    3   3                1           15  3       3   \n",
      "pd039             1    3   3                1           15  3       3   \n",
      "pd040             1    3   3                1           15  3       3   \n",
      "pd041             1    3   3                1           15  3       3   \n",
      "pd046          <NA>    2   2                1           10  2       3   \n",
      "\n",
      "                        \n",
      "trial_type Spontaneous  \n",
      "subject                 \n",
      "pd005                3  \n",
      "pd006                3  \n",
      "pd007                3  \n",
      "pd009                1  \n",
      "pd011                3  \n",
      "pd013                3  \n",
      "pd014                3  \n",
      "pd015                3  \n",
      "pd016                3  \n",
      "pd017                3  \n",
      "pd018                2  \n",
      "pd019                3  \n",
      "pd020                3  \n",
      "pd021                3  \n",
      "pd022                1  \n",
      "pd023                3  \n",
      "pd024                3  \n",
      "pd026                3  \n",
      "pd027                3  \n",
      "pd028                3  \n",
      "pd029                3  \n",
      "pd030                3  \n",
      "pd031                3  \n",
      "pd032                3  \n",
      "pd033                3  \n",
      "pd034                3  \n",
      "pd035                3  \n",
      "pd036                3  \n",
      "pd037                2  \n",
      "pd038                3  \n",
      "pd039                3  \n",
      "pd040                3  \n",
      "pd041                3  \n",
      "pd046                2  \n"
     ]
    }
   ],
   "source": [
    "counts = count_events(bids_root)\n",
    "print(f\"Event counts: {counts}\")"
   ]
  }
 ],
 "metadata": {
  "kernelspec": {
   "display_name": "base",
   "language": "python",
   "name": "python3"
  },
  "language_info": {
   "codemirror_mode": {
    "name": "ipython",
    "version": 3
   },
   "file_extension": ".py",
   "mimetype": "text/x-python",
   "name": "python",
   "nbconvert_exporter": "python",
   "pygments_lexer": "ipython3",
   "version": "3.12.5"
  }
 },
 "nbformat": 4,
 "nbformat_minor": 2
}
