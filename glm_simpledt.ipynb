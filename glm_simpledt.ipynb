{
 "cells": [
  {
   "cell_type": "code",
   "execution_count": 8,
   "metadata": {},
   "outputs": [],
   "source": [
    "import mne  # Import MNE package\n",
    "import matplotlib.pyplot as plt  # Import Matplotlib for plotting\n",
    "import numpy as np  # Import NumPy for numerical operations\n",
    "import pandas as pd  # Import Pandas for data manipulation\n",
    "import seaborn as sns  # Import Seaborn for statistical plotting\n",
    "import statsmodels.formula.api as smf  # Import StatsModels for GLM\n",
    "from mne.preprocessing.nirs import beer_lambert_law, optical_density  # Import NIRS processing functions\n",
    "\n",
    "# Import MNE-BIDS for handling BIDS formatted data\n",
    "from mne_bids import BIDSPath, get_entity_vals, read_raw_bids\n",
    "\n",
    "# Import MNE-NIRS processing functions for channel handling\n",
    "from mne_nirs.channels import get_long_channels, get_short_channels, picks_pair_to_idx\n",
    "from mne_nirs.datasets import fnirs_motor_group\n",
    "from mne_nirs.experimental_design import make_first_level_design_matrix\n",
    "from mne_nirs.io.fold import fold_channel_specificity\n",
    "\n",
    "# Import MNE-NIRS statistics and visualization functions\n",
    "from mne_nirs.statistics import run_glm, statsmodels_to_results\n",
    "from mne_nirs.visualisation import plot_glm_group_topo, plot_glm_surface_projection\n"
   ]
  },
  {
   "cell_type": "markdown",
   "metadata": {},
   "source": [
    "Set the working directory"
   ]
  },
  {
   "cell_type": "code",
   "execution_count": 9,
   "metadata": {},
   "outputs": [
    {
     "name": "stdout",
     "output_type": "stream",
     "text": [
      "/Volumes/dep/Allied Health Professions/NIB Team/Project Folders/DT and PD/fnirs/by_task/dt_simple-bids\n"
     ]
    }
   ],
   "source": [
    "import os\n",
    "os.chdir(\"/Volumes/dep/Allied Health Professions/NIB Team/Project Folders/DT and PD/fnirs/by_task/dt_simple-bids\")\n",
    "\n",
    "# Print the current working directory to verify it\n",
    "print(os.getcwd())"
   ]
  },
  {
   "cell_type": "markdown",
   "metadata": {},
   "source": [
    "Set the path where the raw data is stored (example BIDS dataset)"
   ]
  },
  {
   "cell_type": "code",
   "execution_count": 10,
   "metadata": {},
   "outputs": [
    {
     "name": "stdout",
     "output_type": "stream",
     "text": [
      "/Volumes/dep/Allied Health Professions/NIB Team/Project Folders/DT and PD/fnirs/by_task/dt_simple-bids\n"
     ]
    }
   ],
   "source": [
    "from pathlib import Path\n",
    "\n",
    "root = Path('/Volumes/dep/Allied Health Professions/NIB Team/Project Folders/DT and PD/fnirs/by_task/dt_simple-bids')\n",
    "print(root) "
   ]
  },
  {
   "cell_type": "markdown",
   "metadata": {},
   "source": [
    "Create a BIDSPathobject"
   ]
  },
  {
   "cell_type": "code",
   "execution_count": 11,
   "metadata": {},
   "outputs": [
    {
     "name": "stdout",
     "output_type": "stream",
     "text": [
      "/Volumes/dep/Allied Health Professions/NIB Team/Project Folders/DT and PD/fnirs/by_task/dt_simple-bids/nirs\n"
     ]
    }
   ],
   "source": [
    "dataset = BIDSPath(\n",
    "    root=root, task=\"SimpleDT\", datatype=\"nirs\", suffix=\"nirs\", extension=\".snirf\"\n",
    ")\n",
    "\n",
    "print(dataset.directory)"
   ]
  },
  {
   "cell_type": "markdown",
   "metadata": {},
   "source": [
    "Query available entities like subjects in the dataset"
   ]
  },
  {
   "cell_type": "code",
   "execution_count": 12,
   "metadata": {},
   "outputs": [
    {
     "name": "stdout",
     "output_type": "stream",
     "text": [
      "['pd005', 'pd006', 'pd007', 'pd009', 'pd011', 'pd013', 'pd014', 'pd015', 'pd016', 'pd017', 'pd018', 'pd019', 'pd020', 'pd021', 'pd022', 'pd023', 'pd024', 'pd026', 'pd027', 'pd028', 'pd029', 'pd030', 'pd031', 'pd032', 'pd033', 'pd034', 'pd035', 'pd036', 'pd037', 'pd038', 'pd039', 'pd040', 'pd041', 'pd046']\n"
     ]
    }
   ],
   "source": [
    "subjects = get_entity_vals(root, \"subject\")  # Fix here by using 'dataset' instead of 'roExecution'\n",
    "print(subjects)"
   ]
  },
  {
   "cell_type": "markdown",
   "metadata": {},
   "source": [
    "Define function for individual analysis of a subject's data"
   ]
  },
  {
   "cell_type": "code",
   "execution_count": 13,
   "metadata": {},
   "outputs": [],
   "source": [
    "def individual_analysis(bids_path, ID):\n",
    "    raw_intensity = read_raw_bids(bids_path=bids_path, verbose=False)\n",
    "    # Delete annotation labeled 15, as these just signify the experiment start and end.\n",
    "    raw_intensity.annotations.delete(raw_intensity.annotations.description == \"15.0\")\n",
    "    # sanitize event names\n",
    "    raw_intensity.annotations.description[:] = [\n",
    "        d.replace(\"/\", \"_\") for d in raw_intensity.annotations.description\n",
    "    ]\n",
    "\n",
    "    # Convert signal to optical density (OD) and then to haemoglobin (HbO/HbR)\n",
    "    raw_od = optical_density(raw_intensity)\n",
    "    raw_haemo = beer_lambert_law(raw_od, ppf=0.1)  # ppf = path length (e.g., 0.1 cm)\n",
    "    raw_haemo.resample(0.3)  # Resample the data to 0.3 Hz (for GLM analysis)\n",
    "\n",
    "    # Extract short channels (to be used as a GLM regressor)\n",
    "    sht_chans = get_short_channels(raw_haemo)\n",
    "    raw_haemo = get_long_channels(raw_haemo)  # Extract long channels for analysis\n",
    "\n",
    "    # Create a first-level design matrix for GLM analysis (stimulus duration is 5 seconds)\n",
    "    design_matrix = make_first_level_design_matrix(raw_haemo, stim_dur=5.0)\n",
    "\n",
    "    # Add mean signal from short channels (HbO and HbR) to design matrix\n",
    "    design_matrix[\"ShortHbO\"] = np.mean(\n",
    "        sht_chans.copy().pick(picks=\"hbo\").get_data(), axis=0\n",
    "    )\n",
    "    design_matrix[\"ShortHbR\"] = np.mean(\n",
    "        sht_chans.copy().pick(picks=\"hbr\").get_data(), axis=0\n",
    "    )\n",
    "    #### design_matrix[\"acc\"] = acc_data\n",
    "\n",
    "    # Run the GLM analysis using the design matrix\n",
    "    glm_est = run_glm(raw_haemo, design_matrix)\n",
    "\n",
    "    # Define regions of interest (ROIs) by listing channel pairs\n",
    "    PFC = [[1, 1], [1, 3], [2, 1], [2, 2], [2, 5], [3, 2], [3, 3], [4, 3], [5, 1], [5, 6], [6, 5], [6, 6]]\n",
    "    PMC = [[3, 4], [6, 7], [7, 7], [8, 7], [8, 6], [9, 4], [10, 4]]\n",
    "    SMA = [[2, 8], [7, 5], [7, 8], [9, 2], [9, 8]]\n",
    "    M = [[7, 13], [9, 9], [11, 8], [11, 9], [11, 13]]\n",
    "    SA = [[11, 12], [14, 12], [14, 13], [15, 9], [15, 12], [16, 12]]\n",
    "    \n",
    "    # Generate indices for each ROI based on the channel pairs\n",
    "    groups = dict(\n",
    "        PFC_region=picks_pair_to_idx(raw_haemo, PFC, on_missing=\"ignore\"),\n",
    "        PMC_region=picks_pair_to_idx(raw_haemo, PMC, on_missing=\"ignore\"),\n",
    "        SMA_region=picks_pair_to_idx(raw_haemo, SMA, on_missing=\"ignore\"),\n",
    "        M1_region=picks_pair_to_idx(raw_haemo, M, on_missing=\"ignore\"),\n",
    "        SA_region=picks_pair_to_idx(raw_haemo, SA, on_missing=\"ignore\")\n",
    "    )\n",
    "\n",
    "    # Extract channel metrics from the GLM results\n",
    "    cha = glm_est.to_dataframe()\n",
    "\n",
    "    # Compute ROI results from the channel data\n",
    "    roi = glm_est.to_dataframe_region_of_interest(\n",
    "        groups, design_matrix.columns, demographic_info=True\n",
    "    )\n",
    "\n",
    "    # Define the contrast for 2 different tasks (e.g., \"ST Walk\" vs \"OT\")\n",
    "    contrast_matrix = np.eye(design_matrix.shape[1])\n",
    "    basic_conts = dict(\n",
    "        [(column, contrast_matrix[i]) for i, column in enumerate(design_matrix.columns)]\n",
    "    )\n",
    "    contrast_LvR = basic_conts[\"ST Walk\"] - basic_conts[\"OT\"]\n",
    "\n",
    "    # Compute the defined contrast\n",
    "    contrast = glm_est.compute_contrast(contrast_LvR)\n",
    "    con = contrast.to_dataframe()\n",
    "\n",
    "    # Add the participant ID to the dataframes for better identification\n",
    "    roi[\"ID\"] = cha[\"ID\"] = con[\"ID\"] = ID\n",
    "\n",
    "    # Convert the results to micromolar (uM) for better plotting\n",
    "    cha[\"theta\"] = [t * 1.0e6 for t in cha[\"theta\"]]\n",
    "    roi[\"theta\"] = [t * 1.0e6 for t in roi[\"theta\"]]\n",
    "    con[\"effect\"] = [t * 1.0e6 for t in con[\"effect\"]]\n",
    "\n",
    "    # Return the results for further analysis or plotting\n",
    "    return raw_haemo, roi, cha, con"
   ]
  },
  {
   "cell_type": "markdown",
   "metadata": {},
   "source": [
    "Run analysis on all participants"
   ]
  },
  {
   "cell_type": "code",
   "execution_count": 14,
   "metadata": {},
   "outputs": [
    {
     "name": "stdout",
     "output_type": "stream",
     "text": [
      "Reading 0 ... 3626  =      0.000 ...   712.872 secs...\n"
     ]
    },
    {
     "name": "stderr",
     "output_type": "stream",
     "text": [
      "/var/folders/jj/m5hzfl052j3_qxn15v5jc69w0000gp/T/ipykernel_56581/3400737577.py:2: RuntimeWarning: Limited 1 annotation(s) that were expanding outside the data range.\n",
      "  raw_intensity = read_raw_bids(bids_path=bids_path, verbose=False)\n"
     ]
    },
    {
     "name": "stdout",
     "output_type": "stream",
     "text": [
      "Reading 0 ... 3948  =      0.000 ...   776.177 secs...\n"
     ]
    },
    {
     "name": "stderr",
     "output_type": "stream",
     "text": [
      "/var/folders/jj/m5hzfl052j3_qxn15v5jc69w0000gp/T/ipykernel_56581/3400737577.py:2: RuntimeWarning: Limited 1 annotation(s) that were expanding outside the data range.\n",
      "  raw_intensity = read_raw_bids(bids_path=bids_path, verbose=False)\n"
     ]
    },
    {
     "name": "stdout",
     "output_type": "stream",
     "text": [
      "Reading 0 ... 3908  =      0.000 ...   768.313 secs...\n"
     ]
    },
    {
     "name": "stderr",
     "output_type": "stream",
     "text": [
      "/var/folders/jj/m5hzfl052j3_qxn15v5jc69w0000gp/T/ipykernel_56581/3400737577.py:2: RuntimeWarning: Limited 1 annotation(s) that were expanding outside the data range.\n",
      "  raw_intensity = read_raw_bids(bids_path=bids_path, verbose=False)\n"
     ]
    },
    {
     "name": "stdout",
     "output_type": "stream",
     "text": [
      "Reading 0 ... 3669  =      0.000 ...   721.325 secs...\n",
      "Reading 0 ... 3470  =      0.000 ...   682.202 secs...\n"
     ]
    },
    {
     "name": "stderr",
     "output_type": "stream",
     "text": [
      "/var/folders/jj/m5hzfl052j3_qxn15v5jc69w0000gp/T/ipykernel_56581/3400737577.py:2: RuntimeWarning: Limited 1 annotation(s) that were expanding outside the data range.\n",
      "  raw_intensity = read_raw_bids(bids_path=bids_path, verbose=False)\n"
     ]
    },
    {
     "name": "stdout",
     "output_type": "stream",
     "text": [
      "Reading 0 ... 3867  =      0.000 ...   760.252 secs...\n"
     ]
    },
    {
     "name": "stderr",
     "output_type": "stream",
     "text": [
      "/var/folders/jj/m5hzfl052j3_qxn15v5jc69w0000gp/T/ipykernel_56581/3400737577.py:2: RuntimeWarning: Limited 1 annotation(s) that were expanding outside the data range.\n",
      "  raw_intensity = read_raw_bids(bids_path=bids_path, verbose=False)\n"
     ]
    },
    {
     "name": "stdout",
     "output_type": "stream",
     "text": [
      "Reading 0 ... 3975  =      0.000 ...   781.485 secs...\n"
     ]
    },
    {
     "name": "stderr",
     "output_type": "stream",
     "text": [
      "/var/folders/jj/m5hzfl052j3_qxn15v5jc69w0000gp/T/ipykernel_56581/3400737577.py:2: RuntimeWarning: Limited 1 annotation(s) that were expanding outside the data range.\n",
      "  raw_intensity = read_raw_bids(bids_path=bids_path, verbose=False)\n"
     ]
    },
    {
     "name": "stdout",
     "output_type": "stream",
     "text": [
      "Reading 0 ... 3975  =      0.000 ...   781.485 secs...\n"
     ]
    },
    {
     "name": "stderr",
     "output_type": "stream",
     "text": [
      "/var/folders/jj/m5hzfl052j3_qxn15v5jc69w0000gp/T/ipykernel_56581/3400737577.py:2: RuntimeWarning: Limited 1 annotation(s) that were expanding outside the data range.\n",
      "  raw_intensity = read_raw_bids(bids_path=bids_path, verbose=False)\n"
     ]
    },
    {
     "name": "stdout",
     "output_type": "stream",
     "text": [
      "Reading 0 ... 3736  =      0.000 ...   734.498 secs...\n"
     ]
    },
    {
     "name": "stderr",
     "output_type": "stream",
     "text": [
      "/var/folders/jj/m5hzfl052j3_qxn15v5jc69w0000gp/T/ipykernel_56581/3400737577.py:2: RuntimeWarning: Limited 1 annotation(s) that were expanding outside the data range.\n",
      "  raw_intensity = read_raw_bids(bids_path=bids_path, verbose=False)\n"
     ]
    },
    {
     "name": "stdout",
     "output_type": "stream",
     "text": [
      "Reading 0 ... 3841  =      0.000 ...   755.141 secs...\n"
     ]
    },
    {
     "name": "stderr",
     "output_type": "stream",
     "text": [
      "/var/folders/jj/m5hzfl052j3_qxn15v5jc69w0000gp/T/ipykernel_56581/3400737577.py:2: RuntimeWarning: Limited 1 annotation(s) that were expanding outside the data range.\n",
      "  raw_intensity = read_raw_bids(bids_path=bids_path, verbose=False)\n"
     ]
    },
    {
     "name": "stdout",
     "output_type": "stream",
     "text": [
      "Reading 0 ... 3237  =      0.000 ...   636.394 secs...\n",
      "Reading 0 ... 3841  =      0.000 ...   755.141 secs...\n"
     ]
    },
    {
     "name": "stderr",
     "output_type": "stream",
     "text": [
      "/var/folders/jj/m5hzfl052j3_qxn15v5jc69w0000gp/T/ipykernel_56581/3400737577.py:2: RuntimeWarning: Limited 1 annotation(s) that were expanding outside the data range.\n",
      "  raw_intensity = read_raw_bids(bids_path=bids_path, verbose=False)\n"
     ]
    },
    {
     "name": "stdout",
     "output_type": "stream",
     "text": [
      "Reading 0 ... 3558  =      0.000 ...   699.503 secs...\n"
     ]
    },
    {
     "name": "stderr",
     "output_type": "stream",
     "text": [
      "/var/folders/jj/m5hzfl052j3_qxn15v5jc69w0000gp/T/ipykernel_56581/3400737577.py:2: RuntimeWarning: Limited 1 annotation(s) that were expanding outside the data range.\n",
      "  raw_intensity = read_raw_bids(bids_path=bids_path, verbose=False)\n"
     ]
    },
    {
     "name": "stdout",
     "output_type": "stream",
     "text": [
      "Reading 0 ... 4529  =      0.000 ...   890.401 secs...\n",
      "Reading 0 ... 2475  =      0.000 ...   486.585 secs...\n",
      "Reading 0 ... 3579  =      0.000 ...   703.631 secs...\n"
     ]
    },
    {
     "name": "stderr",
     "output_type": "stream",
     "text": [
      "/var/folders/jj/m5hzfl052j3_qxn15v5jc69w0000gp/T/ipykernel_56581/3400737577.py:2: RuntimeWarning: Limited 1 annotation(s) that were expanding outside the data range.\n",
      "  raw_intensity = read_raw_bids(bids_path=bids_path, verbose=False)\n"
     ]
    },
    {
     "name": "stdout",
     "output_type": "stream",
     "text": [
      "Reading 0 ... 4186  =      0.000 ...   822.968 secs...\n"
     ]
    },
    {
     "name": "stderr",
     "output_type": "stream",
     "text": [
      "/var/folders/jj/m5hzfl052j3_qxn15v5jc69w0000gp/T/ipykernel_56581/3400737577.py:2: RuntimeWarning: Limited 1 annotation(s) that were expanding outside the data range.\n",
      "  raw_intensity = read_raw_bids(bids_path=bids_path, verbose=False)\n"
     ]
    },
    {
     "name": "stdout",
     "output_type": "stream",
     "text": [
      "Reading 0 ... 4005  =      0.000 ...   787.383 secs...\n"
     ]
    },
    {
     "name": "stderr",
     "output_type": "stream",
     "text": [
      "/var/folders/jj/m5hzfl052j3_qxn15v5jc69w0000gp/T/ipykernel_56581/3400737577.py:2: RuntimeWarning: Limited 1 annotation(s) that were expanding outside the data range.\n",
      "  raw_intensity = read_raw_bids(bids_path=bids_path, verbose=False)\n"
     ]
    },
    {
     "name": "stdout",
     "output_type": "stream",
     "text": [
      "Reading 0 ... 3767  =      0.000 ...   740.592 secs...\n"
     ]
    },
    {
     "name": "stderr",
     "output_type": "stream",
     "text": [
      "/var/folders/jj/m5hzfl052j3_qxn15v5jc69w0000gp/T/ipykernel_56581/3400737577.py:2: RuntimeWarning: Limited 1 annotation(s) that were expanding outside the data range.\n",
      "  raw_intensity = read_raw_bids(bids_path=bids_path, verbose=False)\n"
     ]
    },
    {
     "name": "stdout",
     "output_type": "stream",
     "text": [
      "Reading 0 ... 3873  =      0.000 ...   761.432 secs...\n"
     ]
    },
    {
     "name": "stderr",
     "output_type": "stream",
     "text": [
      "/var/folders/jj/m5hzfl052j3_qxn15v5jc69w0000gp/T/ipykernel_56581/3400737577.py:2: RuntimeWarning: Limited 1 annotation(s) that were expanding outside the data range.\n",
      "  raw_intensity = read_raw_bids(bids_path=bids_path, verbose=False)\n"
     ]
    },
    {
     "name": "stdout",
     "output_type": "stream",
     "text": [
      "Reading 0 ... 3873  =      0.000 ...   761.432 secs...\n"
     ]
    },
    {
     "name": "stderr",
     "output_type": "stream",
     "text": [
      "/var/folders/jj/m5hzfl052j3_qxn15v5jc69w0000gp/T/ipykernel_56581/3400737577.py:2: RuntimeWarning: Limited 1 annotation(s) that were expanding outside the data range.\n",
      "  raw_intensity = read_raw_bids(bids_path=bids_path, verbose=False)\n"
     ]
    },
    {
     "name": "stdout",
     "output_type": "stream",
     "text": [
      "Reading 0 ... 4157  =      0.000 ...   817.266 secs...\n",
      "Reading 0 ... 4298  =      0.000 ...   844.987 secs...\n"
     ]
    },
    {
     "name": "stderr",
     "output_type": "stream",
     "text": [
      "/var/folders/jj/m5hzfl052j3_qxn15v5jc69w0000gp/T/ipykernel_56581/3400737577.py:2: RuntimeWarning: Limited 1 annotation(s) that were expanding outside the data range.\n",
      "  raw_intensity = read_raw_bids(bids_path=bids_path, verbose=False)\n"
     ]
    },
    {
     "name": "stdout",
     "output_type": "stream",
     "text": [
      "Reading 0 ... 3803  =      0.000 ...   747.670 secs...\n",
      "Reading 0 ... 3866  =      0.000 ...   760.056 secs...\n",
      "Reading 0 ... 3879  =      0.000 ...   762.611 secs...\n"
     ]
    },
    {
     "name": "stderr",
     "output_type": "stream",
     "text": [
      "/var/folders/jj/m5hzfl052j3_qxn15v5jc69w0000gp/T/ipykernel_56581/3400737577.py:2: RuntimeWarning: Limited 1 annotation(s) that were expanding outside the data range.\n",
      "  raw_intensity = read_raw_bids(bids_path=bids_path, verbose=False)\n"
     ]
    },
    {
     "name": "stdout",
     "output_type": "stream",
     "text": [
      "Reading 0 ... 3779  =      0.000 ...   742.951 secs...\n"
     ]
    },
    {
     "name": "stderr",
     "output_type": "stream",
     "text": [
      "/var/folders/jj/m5hzfl052j3_qxn15v5jc69w0000gp/T/ipykernel_56581/3400737577.py:2: RuntimeWarning: Limited 1 annotation(s) that were expanding outside the data range.\n",
      "  raw_intensity = read_raw_bids(bids_path=bids_path, verbose=False)\n"
     ]
    },
    {
     "name": "stdout",
     "output_type": "stream",
     "text": [
      "Reading 0 ... 4078  =      0.000 ...   801.735 secs...\n"
     ]
    },
    {
     "name": "stderr",
     "output_type": "stream",
     "text": [
      "/var/folders/jj/m5hzfl052j3_qxn15v5jc69w0000gp/T/ipykernel_56581/3400737577.py:2: RuntimeWarning: Limited 1 annotation(s) that were expanding outside the data range.\n",
      "  raw_intensity = read_raw_bids(bids_path=bids_path, verbose=False)\n"
     ]
    },
    {
     "name": "stdout",
     "output_type": "stream",
     "text": [
      "Reading 0 ... 3829  =      0.000 ...   752.781 secs...\n",
      "Reading 0 ... 3912  =      0.000 ...   769.099 secs...\n",
      "Reading 0 ... 3488  =      0.000 ...   685.741 secs...\n"
     ]
    },
    {
     "name": "stderr",
     "output_type": "stream",
     "text": [
      "/var/folders/jj/m5hzfl052j3_qxn15v5jc69w0000gp/T/ipykernel_56581/3400737577.py:2: RuntimeWarning: Limited 1 annotation(s) that were expanding outside the data range.\n",
      "  raw_intensity = read_raw_bids(bids_path=bids_path, verbose=False)\n"
     ]
    },
    {
     "name": "stdout",
     "output_type": "stream",
     "text": [
      "Reading 0 ... 3253  =      0.000 ...   639.540 secs...\n"
     ]
    },
    {
     "name": "stderr",
     "output_type": "stream",
     "text": [
      "/var/folders/jj/m5hzfl052j3_qxn15v5jc69w0000gp/T/ipykernel_56581/3400737577.py:2: RuntimeWarning: Limited 1 annotation(s) that were expanding outside the data range.\n",
      "  raw_intensity = read_raw_bids(bids_path=bids_path, verbose=False)\n"
     ]
    },
    {
     "name": "stdout",
     "output_type": "stream",
     "text": [
      "Reading 0 ... 3816  =      0.000 ...   750.226 secs...\n",
      "Reading 0 ... 3720  =      0.000 ...   731.352 secs...\n",
      "          ROI Condition Chroma     theta         se         t  dfe         p  \\\n",
      "0  PFC_region         8    hbo  8.896952  10.047613  0.885479   25  0.384336   \n",
      "1  PFC_region         8    hbr  0.407797   3.590580  0.113574   25  0.910482   \n",
      "2  PMC_region         8    hbo  8.418641  10.890534  0.773024   25  0.446756   \n",
      "3  PMC_region         8    hbr  0.062424   4.101986  0.015218   25  0.987979   \n",
      "4  SMA_region         8    hbo  5.771213   6.546942  0.881513   25  0.386437   \n",
      "\n",
      "                 Weighted      Sex     ID  \n",
      "0  Inverse standard error  unknown  pd005  \n",
      "1  Inverse standard error  unknown  pd005  \n",
      "2  Inverse standard error  unknown  pd005  \n",
      "3  Inverse standard error  unknown  pd005  \n",
      "4  Inverse standard error  unknown  pd005  \n",
      "variable         Condition    df           mse   p_value        se         t  \\\n",
      "0                        8  25.0  9.475563e-11  0.712506  0.000009  0.372709   \n",
      "1                     Auto  25.0  9.475563e-11  0.694524  0.000005  0.397292   \n",
      "2                      DDK  25.0  9.475563e-11  0.237880  0.000005  1.209247   \n",
      "3         Immediate Recall  25.0  9.475563e-11  0.088195  0.000009  1.774294   \n",
      "4             Instructions  25.0  9.475563e-11  0.004279  0.000003 -3.142268   \n",
      "\n",
      "variable      theta  Source  Detector Chroma  Significant    ch_name     ID  \n",
      "0          3.476765       1         1    hbo        False  S1_D1 hbo  pd005  \n",
      "1          2.146098       1         1    hbo        False  S1_D1 hbo  pd005  \n",
      "2          6.509286       1         1    hbo        False  S1_D1 hbo  pd005  \n",
      "3         16.556196       1         1    hbo        False  S1_D1 hbo  pd005  \n",
      "4         -8.250076       1         1    hbo         True  S1_D1 hbo  pd005  \n",
      "variable ContrastType     effect   p_value      stat   z_score  Source  \\\n",
      "0                   t -15.516578  0.978834 -2.044098 -2.030251       1   \n",
      "1                   t -24.368473  0.972041 -1.923518 -1.911676       1   \n",
      "2                   t -18.744305  0.994545 -2.570976 -2.545554       2   \n",
      "3                   t -23.691181  0.995155 -2.613240 -2.586672       2   \n",
      "4                   t -12.235146  0.963792 -1.806593 -1.796492       2   \n",
      "\n",
      "variable  Detector Chroma  Significant    ch_name     ID  \n",
      "0                1    hbo        False  S1_D1 hbo  pd005  \n",
      "1                3    hbo        False  S1_D3 hbo  pd005  \n",
      "2                1    hbo        False  S2_D1 hbo  pd005  \n",
      "3                2    hbo        False  S2_D2 hbo  pd005  \n",
      "4                5    hbo        False  S2_D5 hbo  pd005  \n"
     ]
    }
   ],
   "source": [
    "df_roi = pd.DataFrame()  # To store region of interest results\n",
    "df_cha = pd.DataFrame()  # To store channel level results\n",
    "df_con = pd.DataFrame()  # To store channel level contrast results\n",
    "\n",
    "for sub in subjects:\n",
    "    # Create path to file based on experiment info\n",
    "    bids_path = dataset.update(subject=sub)  # This should be used correctly to get the path\n",
    "\n",
    "    # Analyse data and return both ROI and channel results\n",
    "    raw_haemo, roi, channel, con = individual_analysis(bids_path, sub)\n",
    "\n",
    "    # Append individual results to all participants\n",
    "    df_roi = pd.concat([df_roi, roi], ignore_index=True)\n",
    "    df_cha = pd.concat([df_cha, channel], ignore_index=True)\n",
    "    df_con = pd.concat([df_con, con], ignore_index=True)\n",
    "\n",
    "# Print final results or save them to CSV files for later analysis\n",
    "print(df_roi.head())\n",
    "print(df_cha.head())\n",
    "print(df_con.head())\n"
   ]
  }
 ],
 "metadata": {
  "kernelspec": {
   "display_name": "base",
   "language": "python",
   "name": "python3"
  },
  "language_info": {
   "codemirror_mode": {
    "name": "ipython",
    "version": 3
   },
   "file_extension": ".py",
   "mimetype": "text/x-python",
   "name": "python",
   "nbconvert_exporter": "python",
   "pygments_lexer": "ipython3",
   "version": "3.12.5"
  }
 },
 "nbformat": 4,
 "nbformat_minor": 2
}
